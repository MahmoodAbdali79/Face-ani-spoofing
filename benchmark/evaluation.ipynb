{
  "nbformat": 4,
  "nbformat_minor": 0,
  "metadata": {
    "colab": {
      "name": "evaluation.ipynb",
      "provenance": [],
      "collapsed_sections": [],
      "authorship_tag": "ABX9TyMGwNR6c/AYrukBwrjOpVSu",
      "include_colab_link": true
    },
    "kernelspec": {
      "display_name": "Python 3",
      "name": "python3"
    },
    "language_info": {
      "name": "python"
    }
  },
  "cells": [
    {
      "cell_type": "markdown",
      "metadata": {
        "id": "view-in-github",
        "colab_type": "text"
      },
      "source": [
        "<a href=\"https://colab.research.google.com/github/MahmoodAbdali79/Face-ani-spoofing/blob/main/benchmark/evaluation.ipynb\" target=\"_parent\"><img src=\"https://colab.research.google.com/assets/colab-badge.svg\" alt=\"Open In Colab\"/></a>"
      ]
    },
    {
      "cell_type": "code",
      "metadata": {
        "id": "Bu6g-jo0G4Xk"
      },
      "source": [
        "# https://keras.io/examples/vision/video_classification/\n",
        "# https://keras.io/api/preprocessing/image/\n",
        "# https://discuss.pytorch.org/t/how-to-go-about-unbalanced-data-in-a-binary-classification-in-pytorch/90655"
      ],
      "execution_count": null,
      "outputs": []
    },
    {
      "cell_type": "code",
      "metadata": {
        "colab": {
          "base_uri": "https://localhost:8080/"
        },
        "id": "-b6kvY9w-M4r",
        "outputId": "6e6033cf-c48e-4153-f4c6-48437fa058e0"
      },
      "source": [
        "from google.colab import drive\n",
        "drive.mount('/content/drive')\n",
        "%cd drive/MyDrive/shenasa/benchmark"
      ],
      "execution_count": null,
      "outputs": [
        {
          "output_type": "stream",
          "name": "stdout",
          "text": [
            "Mounted at /content/drive\n",
            "/content/drive/MyDrive/shenasa/benchmark\n"
          ]
        }
      ]
    },
    {
      "cell_type": "code",
      "metadata": {
        "id": "6Aeyi_qDF-H9"
      },
      "source": [
        "import os\n",
        "import cv2\n",
        "import numpy as np\n",
        "import pandas as pd\n",
        "from keras.preprocessing.image import img_to_array\n",
        "from rPPG.rPPG_Extracter import *\n",
        "from rPPG.rPPG_lukas_Extracter import *\n",
        "from keras.models import model_from_json\n",
        "import tensorflow as tf\n",
        "from random import seed\n",
        "# from random import randint\n",
        "from random import sample\n",
        "\n",
        "seed(1)"
      ],
      "execution_count": null,
      "outputs": []
    },
    {
      "cell_type": "code",
      "metadata": {
        "id": "qLH6MhwxX4pt"
      },
      "source": [
        "dim = (128,128)"
      ],
      "execution_count": null,
      "outputs": []
    },
    {
      "cell_type": "code",
      "metadata": {
        "id": "QcsNnxhQiSeD"
      },
      "source": [
        "cascPath = './cv2_model/haarcascade_frontalface_default.xml'\n",
        "faceCascade = cv2.CascadeClassifier(cascPath)"
      ],
      "execution_count": null,
      "outputs": []
    },
    {
      "cell_type": "code",
      "metadata": {
        "id": "rX13dfECE8gl"
      },
      "source": [
        "# extract frames from videos (each 5 frames)\n",
        "# numberfolder_filemname_x,y,w,h_label.jpg\n",
        "\n",
        "def extract_frames(path, max_frames=6):\n",
        "  folders = os.listdir(path)\n",
        "  os.mkdir(f\"{path}/frames\")\n",
        "  \n",
        "  for folder in folders:\n",
        "    print(f'exracting foder {folder} ...')\n",
        "    videos = os.listdir(f'{path}/{folder}')\n",
        "    for video in videos:\n",
        "      print(video.split('.')[0], ' ...')\n",
        "      name = video.split('.')[0]\n",
        "      if name in ['1','2','HR_1'] : label = '1'\n",
        "      else : label = '0'\n",
        "      cap = cv2.VideoCapture(f'{path}/{folder}/{video}')\n",
        "      \n",
        "      try:\n",
        "        i = 0 \n",
        "        counter = 0\n",
        "        while True:\n",
        "          ret, frame = cap.read()\n",
        "          if not ret: break\n",
        "\n",
        "          i += 1\n",
        "          # detect face \n",
        "          gray = cv2.cvtColor(frame, cv2.COLOR_BGR2GRAY)\n",
        "          faces = faceCascade.detectMultiScale(gray, scaleFactor=1.1, minNeighbors=5)\n",
        "\n",
        "\n",
        "          if i%5 == 0 and len(faces) != 0:\n",
        "            x, y, w, h = faces[0]\n",
        "            print( faces[0],len(faces[0]) , f'counter: {counter+1}')\n",
        "            cv2.imwrite(f'{path}/frames/{folder}_{name}_{x},{y},{w},{h}_{label}.jpg', frame)\n",
        "            counter += 1\n",
        "          # if counter == max_frames: break\n",
        "      finally:\n",
        "        cap.release()"
      ],
      "execution_count": null,
      "outputs": []
    },
    {
      "cell_type": "code",
      "metadata": {
        "id": "dDoK5AGrGKyq"
      },
      "source": [
        "extract_frames('test_release')"
      ],
      "execution_count": null,
      "outputs": []
    },
    {
      "cell_type": "code",
      "metadata": {
        "id": "fUdPcvUxWPaP"
      },
      "source": [
        "def get_rppg_pred(frame):\n",
        "    use_classifier = True  \n",
        "                                 \n",
        "    sub_roi = []           \n",
        "    use_resampling = False  \n",
        "    \n",
        "    fs = 20\n",
        "\n",
        "    timestamps = []\n",
        "    time_start = [0]\n",
        "\n",
        "    break_ = False\n",
        "\n",
        "    rPPG_extracter = rPPG_Extracter()\n",
        "    rPPG_Lukas_Extracter()\n",
        "    bpm = 0\n",
        "    \n",
        "    dt = time.time()-time_start[0]\n",
        "    time_start[0] = time.time()\n",
        "    if len(timestamps) == 0:\n",
        "        timestamps.append(0)\n",
        "    else:\n",
        "        timestamps.append(timestamps[-1] + dt)\n",
        "        \n",
        "\n",
        "    rPPG_extracter.measure_rPPG(frame,use_classifier,sub_roi) \n",
        "    rPPG = np.transpose(rPPG_extracter.rPPG)\n",
        "    \n",
        "        # Extract Pulse\n",
        "    if rPPG.shape[1] > 10:\n",
        "        if use_resampling :\n",
        "            t = np.arange(0,timestamps[-1],1/fs)\n",
        "            \n",
        "            rPPG_resampled= np.zeros((3,t.shape[0]))\n",
        "            for col in [0,1,2]:\n",
        "                rPPG_resampled[col] = np.interp(t,timestamps,rPPG[col])\n",
        "            rPPG = rPPG_resampled\n",
        "        num_frames = rPPG.shape[1]\n",
        "\n",
        "        \n",
        "    return rPPG"
      ],
      "execution_count": null,
      "outputs": []
    },
    {
      "cell_type": "code",
      "metadata": {
        "id": "P_TOj559WPX4"
      },
      "source": [
        "def make_pred(li):\n",
        "    [single_img,rppg] = li\n",
        "    # print(single_img.shape)\n",
        "    single_img = cv2.resize(single_img, dim)\n",
        "    single_x = img_to_array(single_img)\n",
        "    single_x = np.expand_dims(single_x, axis=0)\n",
        "\n",
        "    # print(single_img.shape)\n",
        "    # print('============')\n",
        "    # print(single_x.shape)\n",
        "    # print('============')\n",
        "    # print(rppg.shape)\n",
        "\n",
        "    single_pred = model.predict([single_x,rppg])\n",
        "    return single_pred"
      ],
      "execution_count": null,
      "outputs": []
    },
    {
      "cell_type": "code",
      "metadata": {
        "id": "09QH776_WPEf"
      },
      "source": [
        "def prediction_test(path):\n",
        "  result = []\n",
        "  label = []\n",
        "  ma_frames = os.listdir(f'{path}/frames')\n",
        "  counter = 0\n",
        "  for i in ma_frames:\n",
        "    print(f'{counter}:', i)\n",
        "    im = cv2.imread(f'{path}/frames/{i}')\n",
        "    if 'HR' in i:\n",
        "      face = list(map(int, i.split('_')[3].split(',')))\n",
        "    else:\n",
        "      face = list(map(int, i.split('_')[2].split(',')))\n",
        "\n",
        "    x, y, w, h = face\n",
        "    sub_img=im[y:y+h,x:x+w]\n",
        "    \n",
        "    rppg_s = get_rppg_pred(sub_img)\n",
        "    rppg_s = rppg_s.T\n",
        "    # print(sub_img.shape)\n",
        "    # print(rppg_s)\n",
        "    pred = make_pred([sub_img,rppg_s])\n",
        "    result.append(pred)\n",
        "    label.append(int(i.split('_')[-1].split('.')[0]))\n",
        "    counter += 1\n",
        "\n",
        "  result = np.array(result).reshape(len(result), -1) \n",
        "  result = tf.math.argmin(result, axis=1)\n",
        "  label = tf.convert_to_tensor(label)\n",
        "\n",
        "  return result, label\n",
        "  \n",
        "\n",
        "\n",
        "def PredictSepratedClass(class_folder):\n",
        "  result = []\n",
        "  label = []\n",
        "\n",
        "  frames = os.listdir('benchmark_type/'+class_folder)\n",
        "  # print(frames[:10])\n",
        "\n",
        "  for i, frame in enumerate(frames):\n",
        "    print(f'Counter {i} ... ')\n",
        "    img = cv2.imread(f'benchmark_type/{class_folder}/{frame}')\n",
        "    if 'HR' in frame:\n",
        "      x, y, w, h = list(map(int,frame.split('_')[3].split(',')))\n",
        "    else:\n",
        "      x, y, w, h = list(map(int,frame.split('_')[2].split(',')))\n",
        "    sub_img = img[y:y+h,x:x+w]\n",
        "\n",
        "    rppg_s = get_rppg_pred(sub_img)\n",
        "    rppg_s = rppg_s.T\n",
        "    pred = make_pred([sub_img,rppg_s])\n",
        "    result.append(pred)\n",
        "    label.append(int(frame.split('_')[-2]))\n",
        "\n",
        "  result = np.array(result).reshape(len(result), -1) \n",
        "  result = tf.math.argmin(result, axis=1)\n",
        "  label = tf.convert_to_tensor(label)\n",
        "\n",
        "  return result, label\n",
        "\n",
        "\n"
      ],
      "execution_count": null,
      "outputs": []
    },
    {
      "cell_type": "code",
      "metadata": {
        "id": "2MCm5phKf452"
      },
      "source": [
        "json_file = open('../RGB_rPPG_merge_softmax_.json', 'r')\n",
        "loaded_model_json = json_file.read()\n",
        "json_file.close()\n",
        "model = model_from_json(loaded_model_json)\n",
        "model.load_weights(\"../balance_30_300_7.h5\")\n",
        "\n",
        "model.compile(optimizer='adam', loss='categorical_crossentropy', metrics=['accuracy'])"
      ],
      "execution_count": null,
      "outputs": []
    },
    {
      "cell_type": "code",
      "metadata": {
        "id": "qjjRXKvHXylb"
      },
      "source": [
        "result, label = prediction_test('test_release')"
      ],
      "execution_count": null,
      "outputs": []
    },
    {
      "cell_type": "code",
      "metadata": {
        "colab": {
          "base_uri": "https://localhost:8080/"
        },
        "id": "KJ289aL94QBf",
        "outputId": "2233c39a-4889-4b0f-caca-1229c1f6016f"
      },
      "source": [
        "len(os.listdir('test_release/frames'))"
      ],
      "execution_count": null,
      "outputs": [
        {
          "output_type": "execute_result",
          "data": {
            "text/plain": [
              "8950"
            ]
          },
          "metadata": {},
          "execution_count": 62
        }
      ]
    },
    {
      "cell_type": "code",
      "metadata": {
        "colab": {
          "base_uri": "https://localhost:8080/"
        },
        "id": "BfcGYG3JB8o5",
        "outputId": "2439ddf4-9feb-43bf-a1b9-c91f7bf6b7d4"
      },
      "source": [
        "label.shape"
      ],
      "execution_count": null,
      "outputs": [
        {
          "output_type": "execute_result",
          "data": {
            "text/plain": [
              "TensorShape([8950])"
            ]
          },
          "metadata": {},
          "execution_count": 68
        }
      ]
    },
    {
      "cell_type": "code",
      "metadata": {
        "colab": {
          "base_uri": "https://localhost:8080/"
        },
        "id": "eGKOK1k-fXDK",
        "outputId": "91b974b2-6e8b-47ef-fe3e-39cc2378a84a"
      },
      "source": [
        "res = tf.math.confusion_matrix(label,result)\n",
        "print(res)"
      ],
      "execution_count": null,
      "outputs": [
        {
          "output_type": "stream",
          "name": "stdout",
          "text": [
            "tf.Tensor(\n",
            "[[4829 1364]\n",
            " [1180 1577]], shape=(2, 2), dtype=int32)\n"
          ]
        }
      ]
    },
    {
      "cell_type": "code",
      "metadata": {
        "colab": {
          "base_uri": "https://localhost:8080/"
        },
        "id": "9TNr0uwzlGlJ",
        "outputId": "62da30df-5ad6-486e-86fe-c21cc903af70"
      },
      "source": [
        "# test_30_180_1  first method : 0.29465575349061146\n",
        "# (1083+141)/(2*2077)\n",
        "\n",
        "# test_30_180_1 second method : 0.29809955540057537\n",
        "# (6087+752)/(2*11471)\n",
        "\n",
        "# test_30_180_1 third method : 0.29\n",
        "# (4439+752)/(2*8950)"
      ],
      "execution_count": null,
      "outputs": [
        {
          "output_type": "execute_result",
          "data": {
            "text/plain": [
              "0.29"
            ]
          },
          "metadata": {},
          "execution_count": 65
        }
      ]
    },
    {
      "cell_type": "code",
      "metadata": {
        "colab": {
          "base_uri": "https://localhost:8080/"
        },
        "id": "mMNMjr9PnOMo",
        "outputId": "7846ed13-6138-4a31-b176-afaca6a4865e"
      },
      "source": [
        "# balance_30_300_7 first method : 0.36398651901781415\n",
        "# (1504+8)/(2*2077)\n",
        "\n",
        "# balance_30_300_7 second method : 0.3687124051957109\n",
        "# (8346+113)/(2*11471)\n",
        "\n",
        "# balance_30_300_7 third method : 0.26261877778746406\n",
        "# (5912+113)/(2*11471)"
      ],
      "execution_count": null,
      "outputs": [
        {
          "output_type": "execute_result",
          "data": {
            "text/plain": [
              "0.26261877778746406"
            ]
          },
          "metadata": {},
          "execution_count": 70
        }
      ]
    },
    {
      "cell_type": "code",
      "metadata": {
        "id": "2r17o_Oh2U3I"
      },
      "source": [
        "# RGB_rPPG_merge_softmax_   first method : 0.343042850264805\n",
        "# (1129+296)/(2*2077) \n",
        "\n",
        "# RGB_rPPG_merge_softmax_   second method : 0.3496643710225787\n",
        "# (6445+1577)/(2*11471)\n",
        "\n",
        "# RGB_rPPG_merge_softmax_   third method : 0.27922587394298665\n",
        "# (4829+1577)/(2*11471)"
      ],
      "execution_count": null,
      "outputs": []
    },
    {
      "cell_type": "code",
      "metadata": {
        "colab": {
          "base_uri": "https://localhost:8080/"
        },
        "id": "JGgTsYYt3FZr",
        "outputId": "07cdc4f0-fb51-4506-f3e2-021536b78936"
      },
      "source": [
        "(2077)/(2*2077)"
      ],
      "execution_count": null,
      "outputs": [
        {
          "data": {
            "text/plain": [
              "0.5"
            ]
          },
          "execution_count": 15,
          "metadata": {},
          "output_type": "execute_result"
        }
      ]
    },
    {
      "cell_type": "code",
      "metadata": {
        "colab": {
          "base_uri": "https://localhost:8080/"
        },
        "id": "qDloOFVe3c8l",
        "outputId": "e13247a5-1607-4f12-b709-7863ed5d80fc"
      },
      "source": [
        "(0)/(2*2077)"
      ],
      "execution_count": null,
      "outputs": [
        {
          "data": {
            "text/plain": [
              "0.0"
            ]
          },
          "execution_count": 16,
          "metadata": {},
          "output_type": "execute_result"
        }
      ]
    },
    {
      "cell_type": "code",
      "metadata": {
        "id": "9NoGh61AELie"
      },
      "source": [
        "files = os.listdir('test_release/frames')"
      ],
      "execution_count": null,
      "outputs": []
    },
    {
      "cell_type": "code",
      "metadata": {
        "colab": {
          "base_uri": "https://localhost:8080/"
        },
        "id": "Ucv_3ejHELgM",
        "outputId": "c1f46f0d-b89d-49f7-9b45-f85cb3ff8dce"
      },
      "source": [
        "a = files[100]\n",
        "print(a)\n",
        "\n",
        "if 'HR' in a: print('_'.join(a.split('_')[1:3]))\n",
        "else: print('_'.join(a.split('_')[1]))"
      ],
      "execution_count": null,
      "outputs": [
        {
          "output_type": "stream",
          "name": "stdout",
          "text": [
            "15_HR_2_37,292,635,635_0.jpg\n",
            "HR_2\n"
          ]
        }
      ]
    },
    {
      "cell_type": "code",
      "metadata": {
        "id": "NVV72g5zELZH"
      },
      "source": [
        "for f in files:\n",
        "  if 'HR' in f: name = '_'.join(f.split('_')[1:3])\n",
        "  else: name = '_'.join(f.split('_')[1])\n",
        "\n",
        "  if name in ['5', '6', 'HR_3']:\n",
        "    try:\n",
        "      # print(f)\n",
        "      os.remove('test_release/frames/'+f)\n",
        "    except:pass"
      ],
      "execution_count": null,
      "outputs": []
    },
    {
      "cell_type": "code",
      "metadata": {
        "colab": {
          "base_uri": "https://localhost:8080/"
        },
        "id": "hiJuUj2sG34l",
        "outputId": "12beceb5-c526-4807-d775-7014c89ca8c5"
      },
      "source": [
        "len( os.listdir('test_release/frames'))"
      ],
      "execution_count": null,
      "outputs": [
        {
          "output_type": "execute_result",
          "data": {
            "text/plain": [
              "8950"
            ]
          },
          "metadata": {},
          "execution_count": 54
        }
      ]
    },
    {
      "cell_type": "code",
      "metadata": {
        "id": "BAJFDcnDG2OE"
      },
      "source": [
        "try:\n",
        "  os.remove('test_release/frames/'+files[10])\n",
        "except:pass"
      ],
      "execution_count": null,
      "outputs": []
    },
    {
      "cell_type": "code",
      "metadata": {
        "id": "Y5ITYwJI9lhe"
      },
      "source": [
        "def extract_frame(in_paht):  #test_release/18/3.avi\n",
        "  #extrame frae from a path and release in a other path\n",
        "  folder = in_paht.split('/')[1] \n",
        "  name = in_paht.split('.')[0].split('/')[-1]\n",
        "  label = '0'\n",
        "  number_frame = 10\n",
        "  out_folder = '' \n",
        "\n",
        "  if name in ['1','2','HR_1'] : \n",
        "    label = '1'\n",
        "    number_frame = 30\n",
        "    out_folder = 'real'\n",
        "  elif name in ['3', '4', 'HR_2']:\n",
        "    out_folder = 'print'\n",
        "  elif name in ['7', '8', 'HR_4']:\n",
        "    out_folder = 'reply'\n",
        "  elif name in ['5', '6', 'HR_3']:\n",
        "    out_folder = 'print_eye'\n",
        "\n",
        "  print(f'    Extracting {name}.avi ...')\n",
        "\n",
        "  cap = cv2.VideoCapture(in_paht)\n",
        "  length = int(cap.get(cv2.CAP_PROP_FRAME_COUNT))\n",
        "  selected_frame = np.sort(sample(range(length), number_frame))\n",
        "  last_frame = selected_frame[-1]\n",
        "\n",
        "  A = []\n",
        "\n",
        "  # print(selected_frame, len(selected_frame))\n",
        "\n",
        "  try:\n",
        "    i = 0 \n",
        "    while True:\n",
        "      ret, frame = cap.read()\n",
        "      if not ret: break\n",
        "\n",
        "      # detect face\n",
        "      try:\n",
        "        gray = cv2.cvtColor(frame, cv2.COLOR_BGR2GRAY)\n",
        "        faces = faceCascade.detectMultiScale(gray, scaleFactor=1.1, minNeighbors=5)\n",
        "\n",
        "        if i in selected_frame and len(faces) != 0:\n",
        "          A.append(i)\n",
        "          # print(f'in frame : {i}')\n",
        "          x, y, w, h = faces[0]\n",
        "          cv2.imwrite(f'benchmark_type/{out_folder}/{folder}_{name}_{x},{y},{w},{h}_{label}_{i}.jpg', frame)\n",
        "      \n",
        "        i += 1\n",
        "      except Exception as e:\n",
        "        print(f'can not write frame {i}')\n",
        "        print(e)\n",
        "      if i == last_frame+1:\n",
        "        break\n",
        "\n",
        "  finally:\n",
        "    cap.release()\n"
      ],
      "execution_count": null,
      "outputs": []
    },
    {
      "cell_type": "code",
      "metadata": {
        "id": "4X59y-DT9n1-"
      },
      "source": [
        "def ExtractFrameBasedOnClass(path):\n",
        "  folders = os.listdir(path)\n",
        "  \n",
        "  for folder in folders:\n",
        "    print(f'On folder {folder} ...')\n",
        "    videos = os.listdir(f'{path}/{folder}')\n",
        "    for video in videos:\n",
        "      extract_frame(f'{path}/{folder}/{video}')"
      ],
      "execution_count": null,
      "outputs": []
    },
    {
      "cell_type": "code",
      "metadata": {
        "id": "NaXhkXyPEYDK"
      },
      "source": [
        "# !rm benchmark_type/reply/*\n",
        "# !ls benchmark_type/real"
      ],
      "execution_count": null,
      "outputs": []
    },
    {
      "cell_type": "code",
      "metadata": {
        "id": "kd3IcvXONTXy"
      },
      "source": [
        "ExtractFrameBasedOnClass('test_release')"
      ],
      "execution_count": null,
      "outputs": []
    },
    {
      "cell_type": "code",
      "metadata": {
        "colab": {
          "base_uri": "https://localhost:8080/"
        },
        "id": "nk63zaVm4ZUY",
        "outputId": "e37130ed-1f9c-417b-cd94-71b47bfb98c4"
      },
      "source": [
        "# real - atack\n",
        "2576-2488"
      ],
      "execution_count": null,
      "outputs": [
        {
          "output_type": "execute_result",
          "data": {
            "text/plain": [
              "88"
            ]
          },
          "metadata": {},
          "execution_count": 45
        }
      ]
    },
    {
      "cell_type": "code",
      "metadata": {
        "colab": {
          "base_uri": "https://localhost:8080/"
        },
        "id": "-KItrXhL5ZQb",
        "outputId": "b69aada3-4473-4ae7-f76d-1bfef5cff235"
      },
      "source": [
        "print(len(os.listdir('benchmark_type/print')))\n",
        "print(len(os.listdir('benchmark_type/reply')))\n",
        "print(len(os.listdir('benchmark_type/print_eye')))"
      ],
      "execution_count": null,
      "outputs": [
        {
          "output_type": "stream",
          "name": "stdout",
          "text": [
            "818\n",
            "826\n",
            "844\n"
          ]
        }
      ]
    },
    {
      "cell_type": "code",
      "metadata": {
        "id": "jUtt0wxu6iO-",
        "colab": {
          "base_uri": "https://localhost:8080/"
        },
        "outputId": "35153055-e914-4a81-f537-ea6d27292ada"
      },
      "source": [
        "print(len(os.listdir('benchmark_type/real')))"
      ],
      "execution_count": null,
      "outputs": [
        {
          "output_type": "stream",
          "name": "stdout",
          "text": [
            "2488\n"
          ]
        }
      ]
    },
    {
      "cell_type": "code",
      "metadata": {
        "colab": {
          "base_uri": "https://localhost:8080/"
        },
        "id": "ktQCfmm-lPfJ",
        "outputId": "d2078785-727c-4e9a-9f35-80961c5aad60"
      },
      "source": [
        "print(len(os.listdir('benchmark_type/print')))"
      ],
      "execution_count": null,
      "outputs": [
        {
          "output_type": "stream",
          "name": "stdout",
          "text": [
            "818\n"
          ]
        }
      ]
    },
    {
      "cell_type": "code",
      "metadata": {
        "id": "X6xBYg5A4o6f"
      },
      "source": [
        "pics = os.listdir('benchmark_type/real')\n",
        "\n",
        "for i in sample(range(2576+1), 88):\n",
        "  os.remove(f'benchmark_type/real/{pics[i]}')"
      ],
      "execution_count": null,
      "outputs": []
    },
    {
      "cell_type": "code",
      "metadata": {
        "id": "UckcWDXKdfP_"
      },
      "source": [
        ""
      ],
      "execution_count": null,
      "outputs": []
    },
    {
      "cell_type": "code",
      "metadata": {
        "id": "T17R5TxS9nxP"
      },
      "source": [
        "result, label = PredictSepratedClass('reply')"
      ],
      "execution_count": null,
      "outputs": []
    },
    {
      "cell_type": "code",
      "metadata": {
        "colab": {
          "base_uri": "https://localhost:8080/"
        },
        "id": "28Xw7Kd8i-D-",
        "outputId": "a2f150f2-bab6-47e3-9937-60470052b6a1"
      },
      "source": [
        "res = tf.math.confusion_matrix(label,result)\n",
        "print(res)"
      ],
      "execution_count": null,
      "outputs": [
        {
          "output_type": "stream",
          "name": "stdout",
          "text": [
            "tf.Tensor(\n",
            "[[769  57]\n",
            " [  0   0]], shape=(2, 2), dtype=int32)\n"
          ]
        }
      ]
    },
    {
      "cell_type": "code",
      "metadata": {
        "id": "I4BxrVLqSfnO"
      },
      "source": [
        "#@title an evaluation with a balance aproch\n"
      ],
      "execution_count": null,
      "outputs": []
    },
    {
      "cell_type": "code",
      "metadata": {
        "id": "VDAVz8EWvgnB"
      },
      "source": [
        "# balance_30_300_7 for just real 0.011655948553054662\n",
        "# (0+58)/(2*2488)\n",
        "\n",
        "# test_30_180_1 for just reply 0.4654963680387409\n",
        "# (769+0)/(2*826)\n",
        "\n",
        "# test_30_180_1 for just print_eye 0.4786729857819905\n",
        "# (808+0)/(2*844)\n",
        "\n",
        "# test_30_180_1 for just print 0.4883863080684597\n",
        "# (799+0)/(2*818)"
      ],
      "execution_count": null,
      "outputs": []
    },
    {
      "cell_type": "code",
      "metadata": {
        "colab": {
          "base_uri": "https://localhost:8080/"
        },
        "id": "0umU_UuhjIWe",
        "outputId": "66a24353-edda-4857-8bbb-6c9b53cf74d6"
      },
      "source": [
        "# RGB_rPPG_merge_softmax_ for just real 0.28516881028938906\n",
        "# (0+1419)/(2*2488)\n",
        "\n",
        "# RGB_rPPG_merge_softmax_ for just reply 0.3898305084745763\n",
        "# (644+0)/(2*826)\n",
        "\n",
        "# RGB_rPPG_merge_softmax_ for just print_eye 0.2950236966824645\n",
        "# (498+0)/(2*844)\n",
        "\n",
        "# RGB_rPPG_merge_softmax_ for just print 0.39425427872860636\n",
        "# (645+0)/(2*818)"
      ],
      "execution_count": null,
      "outputs": [
        {
          "output_type": "execute_result",
          "data": {
            "text/plain": [
              "0.39425427872860636"
            ]
          },
          "metadata": {},
          "execution_count": 63
        }
      ]
    },
    {
      "cell_type": "code",
      "metadata": {
        "colab": {
          "base_uri": "https://localhost:8080/"
        },
        "id": "qpjwGv4pqRFp",
        "outputId": "dd834bfc-a9ca-4b62-e1b8-ed188f8f8817"
      },
      "source": [
        "# test_30_180_1 for just real 0.12781350482315113\n",
        "# (0+636)/(2*2488)\n",
        "\n",
        "# test_30_180_1 for just reply 0.2950236966824645\n",
        "# (618+0)/(2*826)\n",
        "\n",
        "# test_30_180_1 for just print_eye 0.33293838862559244\n",
        "# (562+0)/(2*844)\n",
        "\n",
        "# test_30_180_1 for just print 0.3471882640586797\n",
        "# (568+0)/(2*818)"
      ],
      "execution_count": null,
      "outputs": [
        {
          "output_type": "execute_result",
          "data": {
            "text/plain": [
              "0.12781350482315113"
            ]
          },
          "metadata": {},
          "execution_count": 76
        }
      ]
    },
    {
      "cell_type": "code",
      "metadata": {
        "colab": {
          "base_uri": "https://localhost:8080/"
        },
        "id": "jx-zlXImjcfM",
        "outputId": "ee7b1e4a-e0f4-4db4-be3e-975b8a1d5d8c"
      },
      "source": [
        "# RGB_rPPG_merge_softmax_ for just reply 0.3898305084745763\n",
        "(498+0)/(2*844)"
      ],
      "execution_count": null,
      "outputs": [
        {
          "output_type": "execute_result",
          "data": {
            "text/plain": [
              "0.2950236966824645"
            ]
          },
          "metadata": {},
          "execution_count": 55
        }
      ]
    },
    {
      "cell_type": "code",
      "metadata": {
        "id": "1v5E4v4ueobO"
      },
      "source": [
        "os.listdir('benchmark_type/real')[40:50]"
      ],
      "execution_count": null,
      "outputs": []
    },
    {
      "cell_type": "code",
      "metadata": {
        "colab": {
          "base_uri": "https://localhost:8080/"
        },
        "id": "MV78Fluke9z1",
        "outputId": "a9f17961-4084-4b1d-e176-f5a27f9733f8"
      },
      "source": [
        "'26_HR_1_8,450,648,648_1_65.jpg'.split('_')[3].split(',')"
      ],
      "execution_count": null,
      "outputs": [
        {
          "output_type": "execute_result",
          "data": {
            "text/plain": [
              "['8', '450', '648', '648']"
            ]
          },
          "metadata": {},
          "execution_count": 42
        }
      ]
    },
    {
      "cell_type": "code",
      "metadata": {
        "id": "rMzF8PkiSepc"
      },
      "source": [
        ""
      ],
      "execution_count": null,
      "outputs": []
    },
    {
      "cell_type": "code",
      "metadata": {
        "id": "12-U_yRKSenI"
      },
      "source": [
        "#@title new balance for evaluation\n"
      ],
      "execution_count": null,
      "outputs": []
    },
    {
      "cell_type": "code",
      "metadata": {
        "id": "yO3EelieSek0"
      },
      "source": [
        ""
      ],
      "execution_count": null,
      "outputs": []
    },
    {
      "cell_type": "code",
      "metadata": {
        "id": "QnDwCfu6Seik"
      },
      "source": [
        "def balanced_film_name():\n",
        "  real = ['1', '2', 'HR_1'] \n",
        "  print = ['3', '4', 'HR_2']\n",
        "  print_eye = ['5', '6', 'HR_3'] \n",
        "  reply = ['7', '8', 'HR_4' ] \n",
        "\n",
        "  print = np.random.choice(print, 1)\n",
        "  print_eye = np.random.choice(print_eye, 1)\n",
        "  reply = np.random.choice(reply, 1)\n",
        "\n",
        "  D = np.concatenate([print,print_eye,reply,real])\n",
        "\n",
        "  return D"
      ],
      "execution_count": null,
      "outputs": []
    },
    {
      "cell_type": "code",
      "metadata": {
        "colab": {
          "base_uri": "https://localhost:8080/"
        },
        "id": "ipLBrApf4g6R",
        "outputId": "37d58f8b-8d11-4dd0-ab19-9e61fa8175e3"
      },
      "source": [
        "for file_name in list(balanced_film_name()):\n",
        "  if file_name in ['1', '2', 'HR_1']:\n",
        "    print(file_name)"
      ],
      "execution_count": null,
      "outputs": [
        {
          "output_type": "stream",
          "name": "stdout",
          "text": [
            "1\n",
            "2\n",
            "HR_1\n"
          ]
        }
      ]
    },
    {
      "cell_type": "code",
      "metadata": {
        "id": "uD6ACYqKSebm"
      },
      "source": [
        "# real : 3\n",
        "# atack : 9\n",
        "\n",
        "# ==> 3 real   <==>   1 reply  1 print  1 print_eye\n",
        "\n",
        "\n",
        "# 6×15×30   number film(per folder) * number frame * nnumber folder\n",
        "\n",
        "\n",
        "def extract_balanced_frames(path, number_frame):\n",
        "  folders = os.listdir(path)\n",
        "  for folder in folders:\n",
        "    print(folder)\n",
        "    for file_name in list(balanced_film_name()):\n",
        "      video = f'{path}/{folder}/{file_name}.avi'\n",
        "      cap = cv2.VideoCapture(video)\n",
        "      length = int(cap.get(cv2.CAP_PROP_FRAME_COUNT))\n",
        "      selected_frame = np.sort(sample(range(length), number_frame))\n",
        "      last_frame = selected_frame[-1]\n",
        "\n",
        "\n",
        "      label = '0'\n",
        "      if file_name in ['1', '2', 'HR_1']:\n",
        "        label = '1'\n",
        "\n",
        "      i = 0\n",
        "\n",
        "      while True:\n",
        "        i += 1\n",
        "        ret, frame = cap.read()\n",
        "        if not ret: break\n",
        "\n",
        "        try:\n",
        "          gray = cv2.cvtColor(frame, cv2.COLOR_BGR2GRAY)\n",
        "          faces = faceCascade.detectMultiScale(gray, scaleFactor=1.1, minNeighbors=5)\n",
        "\n",
        "          if i in selected_frame and len(faces) != 0:\n",
        "            # print(f'in frame : {i}')\n",
        "            x, y, w, h = faces[0]\n",
        "            cv2.imwrite(f'frame_balenced/{folder}_{file_name}_{x},{y},{w},{h}_{label}.jpg', frame)    # add countre \n",
        "            print(f'    {folder}_{file_name}_{x},{y},{w},{h}_{label}.jpg')\n",
        "\n",
        "        except Exception as e:\n",
        "          print(f'can not write frame {i}')\n",
        "          print(e)\n",
        "\n",
        "      \n"
      ],
      "execution_count": null,
      "outputs": []
    },
    {
      "cell_type": "code",
      "metadata": {
        "id": "dduekNdOryjY"
      },
      "source": [
        "['1', '2', 'HR_1'] \n",
        "['3', '4', 'HR_2']\n",
        "['5', '6', 'HR_3'] \n",
        "['7', '8', 'HR_4' ] \n"
      ],
      "execution_count": null,
      "outputs": []
    },
    {
      "cell_type": "code",
      "metadata": {
        "colab": {
          "base_uri": "https://localhost:8080/"
        },
        "id": "72rYgEL6Qr2r",
        "outputId": "826413dc-e2d4-45c0-a2fd-ce90b13a0a5b"
      },
      "source": [
        "extract_balanced_frames(\"test_release\", 15)"
      ],
      "execution_count": null,
      "outputs": [
        {
          "output_type": "stream",
          "name": "stdout",
          "text": [
            "18\n",
            "    18_4_112,146,229,229_0.jpg\n",
            "    18_4_126,145,209,209_0.jpg\n",
            "    18_4_130,147,206,206_0.jpg\n",
            "    18_4_128,146,209,209_0.jpg\n",
            "    18_4_121,137,227,227_0.jpg\n",
            "    18_4_131,144,215,215_0.jpg\n",
            "    18_4_128,142,225,225_0.jpg\n",
            "    18_4_126,141,231,231_0.jpg\n",
            "    18_4_127,142,230,230_0.jpg\n",
            "    18_4_121,152,238,238_0.jpg\n",
            "    18_4_125,157,236,236_0.jpg\n",
            "    18_4_126,153,231,231_0.jpg\n",
            "    18_4_124,133,231,231_0.jpg\n",
            "    18_4_123,151,235,235_0.jpg\n",
            "    18_4_129,133,231,231_0.jpg\n",
            "    18_5_273,170,218,218_0.jpg\n",
            "    18_5_273,173,216,216_0.jpg\n",
            "    18_5_264,170,230,230_0.jpg\n",
            "    18_5_267,172,224,224_0.jpg\n",
            "    18_5_271,173,223,223_0.jpg\n",
            "    18_5_262,170,234,234_0.jpg\n",
            "    18_5_262,164,238,238_0.jpg\n",
            "    18_5_265,175,231,231_0.jpg\n",
            "    18_5_269,176,226,226_0.jpg\n",
            "    18_5_268,179,227,227_0.jpg\n",
            "    18_5_268,167,229,229_0.jpg\n",
            "    18_5_266,165,234,234_0.jpg\n",
            "    18_5_267,175,220,220_0.jpg\n",
            "    18_7_192,161,217,217_0.jpg\n",
            "    18_7_175,48,252,252_0.jpg\n",
            "    18_7_187,51,243,243_0.jpg\n",
            "    18_7_187,54,238,238_0.jpg\n",
            "    18_7_184,48,249,249_0.jpg\n",
            "    18_7_187,43,255,255_0.jpg\n",
            "    18_7_184,53,242,242_0.jpg\n",
            "    18_7_187,52,241,241_0.jpg\n",
            "    18_7_196,59,222,222_0.jpg\n",
            "    18_7_193,54,238,238_0.jpg\n",
            "    18_7_176,45,262,262_0.jpg\n",
            "    18_7_142,75,188,188_0.jpg\n",
            "    18_7_183,55,222,222_0.jpg\n",
            "    18_7_202,37,249,249_0.jpg\n",
            "    18_1_211,154,260,260_1.jpg\n",
            "    18_1_210,155,257,257_1.jpg\n",
            "    18_1_198,153,260,260_1.jpg\n",
            "    18_1_198,155,255,255_1.jpg\n",
            "    18_1_200,159,256,256_1.jpg\n",
            "    18_1_205,160,256,256_1.jpg\n",
            "    18_1_215,163,260,260_1.jpg\n",
            "    18_1_212,159,264,264_1.jpg\n",
            "    18_1_207,157,266,266_1.jpg\n",
            "    18_1_208,159,262,262_1.jpg\n",
            "    18_1_211,160,254,254_1.jpg\n",
            "    18_1_212,162,251,251_1.jpg\n",
            "    18_1_210,160,254,254_1.jpg\n",
            "    18_1_201,154,264,264_1.jpg\n",
            "    18_1_201,154,263,263_1.jpg\n",
            "    18_2_156,251,189,189_1.jpg\n",
            "    18_2_155,251,189,189_1.jpg\n",
            "    18_2_154,250,191,191_1.jpg\n",
            "    18_2_156,251,187,187_1.jpg\n",
            "    18_2_158,252,187,187_1.jpg\n",
            "    18_2_157,252,187,187_1.jpg\n",
            "    18_2_157,252,186,186_1.jpg\n",
            "    18_2_156,252,186,186_1.jpg\n",
            "    18_2_154,250,189,189_1.jpg\n",
            "    18_2_157,252,188,188_1.jpg\n",
            "    18_2_156,254,187,187_1.jpg\n",
            "    18_2_156,254,187,187_1.jpg\n",
            "    18_2_155,254,188,188_1.jpg\n",
            "    18_2_158,254,186,186_1.jpg\n",
            "    18_2_158,254,185,185_1.jpg\n",
            "    18_HR_1_395,609,221,221_1.jpg\n",
            "    18_HR_1_9,625,199,199_1.jpg\n",
            "    18_HR_1_414,612,215,215_1.jpg\n",
            "    18_HR_1_23,627,223,223_1.jpg\n",
            "    18_HR_1_28,411,674,674_1.jpg\n",
            "    18_HR_1_481,578,208,208_1.jpg\n",
            "11\n",
            "    11_4_124,85,203,203_0.jpg\n",
            "    11_4_123,83,207,207_0.jpg\n",
            "    11_4_123,82,207,207_0.jpg\n",
            "    11_4_126,90,200,200_0.jpg\n",
            "    11_4_120,82,212,212_0.jpg\n",
            "    11_4_121,90,201,201_0.jpg\n",
            "    11_4_120,91,203,203_0.jpg\n",
            "    11_4_121,87,206,206_0.jpg\n",
            "    11_4_126,89,201,201_0.jpg\n",
            "    11_4_124,95,207,207_0.jpg\n",
            "    11_4_120,97,209,209_0.jpg\n",
            "    11_4_123,99,211,211_0.jpg\n",
            "    11_4_128,79,214,214_0.jpg\n",
            "    11_4_271,73,120,120_0.jpg\n",
            "    11_4_131,103,205,205_0.jpg\n",
            "    11_HR_3_72,239,590,590_0.jpg\n",
            "    11_HR_3_60,232,607,607_0.jpg\n",
            "    11_HR_3_54,228,623,623_0.jpg\n",
            "    11_HR_3_58,232,602,602_0.jpg\n",
            "    11_HR_3_59,234,604,604_0.jpg\n",
            "    11_HR_3_58,222,617,617_0.jpg\n",
            "    11_HR_3_62,236,600,600_0.jpg\n",
            "    11_HR_3_58,231,615,615_0.jpg\n",
            "    11_HR_3_59,234,604,604_0.jpg\n",
            "    11_HR_3_65,230,600,600_0.jpg\n",
            "    11_HR_3_67,230,596,596_0.jpg\n",
            "    11_HR_3_61,223,607,607_0.jpg\n",
            "    11_HR_3_66,236,601,601_0.jpg\n",
            "    11_HR_3_70,239,596,596_0.jpg\n",
            "    11_HR_3_68,233,602,602_0.jpg\n",
            "    11_HR_4_16,247,651,651_0.jpg\n",
            "    11_HR_4_23,250,648,648_0.jpg\n",
            "    11_HR_4_23,250,648,648_0.jpg\n",
            "    11_HR_4_31,244,641,641_0.jpg\n",
            "    11_HR_4_28,249,641,641_0.jpg\n",
            "    11_HR_4_29,247,647,647_0.jpg\n",
            "    11_HR_4_29,241,640,640_0.jpg\n",
            "    11_HR_4_34,254,633,633_0.jpg\n",
            "    11_HR_4_15,238,667,667_0.jpg\n",
            "    11_HR_4_32,251,629,629_0.jpg\n",
            "    11_HR_4_25,247,636,636_0.jpg\n",
            "    11_HR_4_29,250,644,644_0.jpg\n",
            "    11_HR_4_28,247,644,644_0.jpg\n",
            "    11_1_260,108,207,207_1.jpg\n",
            "    11_1_257,109,206,206_1.jpg\n",
            "    11_1_255,108,208,208_1.jpg\n",
            "    11_1_256,107,208,208_1.jpg\n",
            "    11_1_256,108,208,208_1.jpg\n",
            "    11_1_257,107,206,206_1.jpg\n",
            "    11_1_261,108,200,200_1.jpg\n",
            "    11_1_259,106,206,206_1.jpg\n",
            "    11_1_260,105,205,205_1.jpg\n",
            "    11_1_258,107,208,208_1.jpg\n",
            "    11_1_259,106,207,207_1.jpg\n",
            "    11_1_257,105,209,209_1.jpg\n",
            "    11_1_260,110,203,203_1.jpg\n",
            "    11_1_258,109,204,204_1.jpg\n",
            "    11_1_261,110,200,200_1.jpg\n",
            "    11_2_104,155,217,217_1.jpg\n",
            "    11_2_105,155,219,219_1.jpg\n",
            "    11_2_106,156,217,217_1.jpg\n",
            "    11_2_106,157,215,215_1.jpg\n",
            "    11_2_108,157,216,216_1.jpg\n",
            "    11_2_103,154,221,221_1.jpg\n",
            "    11_2_106,156,214,214_1.jpg\n",
            "    11_2_106,156,216,216_1.jpg\n",
            "    11_2_106,157,213,213_1.jpg\n",
            "    11_2_107,156,215,215_1.jpg\n",
            "    11_2_107,156,215,215_1.jpg\n",
            "    11_2_106,155,216,216_1.jpg\n",
            "    11_2_107,157,213,213_1.jpg\n",
            "    11_2_106,155,216,216_1.jpg\n",
            "    11_2_106,155,216,216_1.jpg\n",
            "    11_HR_1_29,264,644,644_1.jpg\n",
            "    11_HR_1_19,265,657,657_1.jpg\n",
            "    11_HR_1_26,269,648,648_1.jpg\n",
            "    11_HR_1_26,253,651,651_1.jpg\n",
            "    11_HR_1_23,257,657,657_1.jpg\n",
            "    11_HR_1_20,253,659,659_1.jpg\n",
            "    11_HR_1_15,233,665,665_1.jpg\n",
            "    11_HR_1_19,258,657,657_1.jpg\n",
            "    11_HR_1_29,263,647,647_1.jpg\n",
            "    11_HR_1_26,271,641,641_1.jpg\n",
            "    11_HR_1_33,269,630,630_1.jpg\n",
            "    11_HR_1_18,254,644,644_1.jpg\n",
            "    11_HR_1_24,253,656,656_1.jpg\n",
            "    11_HR_1_28,272,636,636_1.jpg\n",
            "27\n",
            "    27_4_99,107,283,283_0.jpg\n",
            "    27_4_119,120,250,250_0.jpg\n",
            "    27_4_115,117,257,257_0.jpg\n",
            "    27_4_117,117,261,261_0.jpg\n",
            "    27_4_117,121,254,254_0.jpg\n",
            "    27_4_117,121,252,252_0.jpg\n",
            "    27_4_117,120,250,250_0.jpg\n",
            "    27_4_107,114,263,263_0.jpg\n",
            "    27_4_106,111,264,264_0.jpg\n",
            "    27_4_106,112,267,267_0.jpg\n",
            "    27_4_98,105,283,283_0.jpg\n",
            "    27_4_97,124,267,267_0.jpg\n",
            "    27_4_98,116,272,272_0.jpg\n",
            "    27_4_92,122,275,275_0.jpg\n",
            "    27_4_82,136,290,290_0.jpg\n",
            "    27_HR_3_87,416,562,562_0.jpg\n",
            "    27_HR_3_90,419,558,558_0.jpg\n",
            "    27_HR_3_86,417,565,565_0.jpg\n",
            "    27_HR_3_93,423,550,550_0.jpg\n",
            "    27_HR_3_94,427,544,544_0.jpg\n",
            "    27_HR_3_94,425,550,550_0.jpg\n",
            "    27_HR_3_89,420,557,557_0.jpg\n",
            "    27_HR_3_91,420,551,551_0.jpg\n",
            "    27_HR_3_91,424,552,552_0.jpg\n",
            "    27_HR_3_89,416,559,559_0.jpg\n",
            "    27_HR_3_90,418,561,561_0.jpg\n",
            "    27_HR_3_92,423,547,547_0.jpg\n",
            "    27_HR_3_90,422,555,555_0.jpg\n",
            "    27_HR_3_92,430,541,541_0.jpg\n",
            "    27_HR_3_96,431,545,545_0.jpg\n",
            "    27_HR_4_12,294,638,638_0.jpg\n",
            "    27_HR_4_13,288,628,628_0.jpg\n",
            "    27_HR_4_14,289,637,637_0.jpg\n",
            "    27_HR_4_15,292,639,639_0.jpg\n",
            "    27_HR_4_11,285,638,638_0.jpg\n",
            "    27_HR_4_13,284,641,641_0.jpg\n",
            "    27_HR_4_14,289,634,634_0.jpg\n",
            "    27_HR_4_11,287,632,632_0.jpg\n",
            "    27_HR_4_5,295,631,631_0.jpg\n",
            "    27_HR_4_12,273,674,674_0.jpg\n",
            "    27_1_217,126,208,208_1.jpg\n",
            "    27_1_217,125,211,211_1.jpg\n",
            "    27_1_213,123,215,215_1.jpg\n",
            "    27_1_215,125,209,209_1.jpg\n",
            "    27_1_213,124,215,215_1.jpg\n",
            "    27_1_216,125,211,211_1.jpg\n",
            "    27_1_216,126,211,211_1.jpg\n",
            "    27_1_216,126,207,207_1.jpg\n",
            "    27_1_215,126,209,209_1.jpg\n",
            "    27_1_212,124,208,208_1.jpg\n",
            "    27_1_213,125,207,207_1.jpg\n",
            "    27_1_211,123,213,213_1.jpg\n",
            "    27_1_215,124,209,209_1.jpg\n",
            "    27_1_217,126,206,206_1.jpg\n",
            "    27_1_215,124,209,209_1.jpg\n",
            "    27_2_186,226,187,187_1.jpg\n",
            "    27_2_186,226,186,186_1.jpg\n",
            "    27_2_185,225,188,188_1.jpg\n",
            "    27_2_184,224,186,186_1.jpg\n",
            "    27_2_183,223,187,187_1.jpg\n",
            "    27_2_184,225,185,185_1.jpg\n",
            "    27_2_185,225,187,187_1.jpg\n",
            "    27_2_188,225,185,185_1.jpg\n",
            "    27_2_189,225,184,184_1.jpg\n",
            "    27_2_184,222,190,190_1.jpg\n",
            "    27_2_184,222,191,191_1.jpg\n",
            "    27_2_186,224,188,188_1.jpg\n",
            "    27_2_185,223,188,188_1.jpg\n",
            "    27_2_185,223,187,187_1.jpg\n",
            "    27_2_185,223,189,189_1.jpg\n",
            "    27_HR_1_8,310,635,635_1.jpg\n",
            "    27_HR_1_5,310,644,644_1.jpg\n",
            "    27_HR_1_6,310,633,633_1.jpg\n",
            "    27_HR_1_8,318,644,644_1.jpg\n",
            "    27_HR_1_10,302,641,641_1.jpg\n",
            "    27_HR_1_6,301,633,633_1.jpg\n",
            "    27_HR_1_10,304,630,630_1.jpg\n",
            "    27_HR_1_9,308,629,629_1.jpg\n",
            "    27_HR_1_0,311,648,648_1.jpg\n",
            "    27_HR_1_8,334,604,604_1.jpg\n",
            "    27_HR_1_120,1089,180,180_1.jpg\n",
            "25\n",
            "    25_3_215,155,243,243_0.jpg\n",
            "    25_3_215,162,243,243_0.jpg\n",
            "    25_3_223,159,229,229_0.jpg\n",
            "    25_3_221,161,229,229_0.jpg\n",
            "    25_3_219,161,239,239_0.jpg\n",
            "    25_3_208,156,258,258_0.jpg\n",
            "    25_3_209,156,260,260_0.jpg\n",
            "    25_3_205,162,254,254_0.jpg\n",
            "    25_3_199,158,262,262_0.jpg\n",
            "    25_3_214,166,233,233_0.jpg\n",
            "    25_3_225,180,211,211_0.jpg\n",
            "    25_3_226,180,208,208_0.jpg\n",
            "    25_3_224,174,212,212_0.jpg\n",
            "    25_3_214,178,221,221_0.jpg\n",
            "    25_3_214,180,224,224_0.jpg\n",
            "    25_5_248,78,188,188_0.jpg\n",
            "    25_5_249,76,187,187_0.jpg\n",
            "    25_5_248,75,189,189_0.jpg\n",
            "    25_5_245,70,197,197_0.jpg\n",
            "    25_5_248,75,187,187_0.jpg\n",
            "    25_5_246,73,190,190_0.jpg\n",
            "    25_5_247,73,188,188_0.jpg\n",
            "    25_5_247,72,189,189_0.jpg\n",
            "    25_5_248,73,188,188_0.jpg\n",
            "    25_5_250,74,189,189_0.jpg\n",
            "    25_5_248,74,191,191_0.jpg\n",
            "    25_5_251,75,192,192_0.jpg\n",
            "    25_5_252,76,191,191_0.jpg\n",
            "    25_5_252,77,189,189_0.jpg\n",
            "    25_5_255,79,189,189_0.jpg\n",
            "    25_HR_4_12,457,624,624_0.jpg\n",
            "    25_HR_4_11,456,628,628_0.jpg\n",
            "    25_HR_4_3,446,622,622_0.jpg\n",
            "    25_HR_4_7,454,622,622_0.jpg\n",
            "    25_HR_4_7,446,636,636_0.jpg\n",
            "    25_HR_4_9,478,633,633_0.jpg\n",
            "    25_HR_4_16,470,644,644_0.jpg\n",
            "    25_HR_4_12,466,647,647_0.jpg\n",
            "    25_HR_4_15,460,647,647_0.jpg\n",
            "    25_HR_4_16,462,650,650_0.jpg\n",
            "    25_HR_4_16,462,650,650_0.jpg\n",
            "    25_HR_4_14,471,644,644_0.jpg\n",
            "    25_HR_4_8,469,648,648_0.jpg\n",
            "    25_HR_4_10,472,641,641_0.jpg\n",
            "    25_1_185,96,225,225_1.jpg\n",
            "    25_1_186,96,226,226_1.jpg\n",
            "    25_1_189,97,224,224_1.jpg\n",
            "    25_1_177,100,229,229_1.jpg\n",
            "    25_1_176,98,230,230_1.jpg\n",
            "    25_1_179,99,228,228_1.jpg\n",
            "    25_1_184,106,221,221_1.jpg\n",
            "    25_1_188,108,215,215_1.jpg\n",
            "    25_1_185,108,213,213_1.jpg\n",
            "    25_1_181,105,220,220_1.jpg\n",
            "    25_1_179,105,225,225_1.jpg\n",
            "    25_1_178,104,226,226_1.jpg\n",
            "    25_1_178,103,227,227_1.jpg\n",
            "    25_1_178,103,226,226_1.jpg\n",
            "    25_1_178,103,224,224_1.jpg\n",
            "    25_2_156,242,205,205_1.jpg\n",
            "    25_2_154,240,208,208_1.jpg\n",
            "    25_2_154,241,208,208_1.jpg\n",
            "    25_2_153,241,210,210_1.jpg\n",
            "    25_2_154,241,209,209_1.jpg\n",
            "    25_2_153,240,208,208_1.jpg\n",
            "    25_2_152,239,212,212_1.jpg\n",
            "    25_2_156,239,207,207_1.jpg\n",
            "    25_2_155,240,208,208_1.jpg\n",
            "    25_2_161,242,200,200_1.jpg\n",
            "    25_2_160,239,205,205_1.jpg\n",
            "    25_2_157,248,208,208_1.jpg\n",
            "    25_2_157,246,212,212_1.jpg\n",
            "    25_2_157,246,212,212_1.jpg\n",
            "    25_2_159,248,209,209_1.jpg\n",
            "    25_HR_1_0,475,639,639_1.jpg\n",
            "    25_HR_1_6,480,633,633_1.jpg\n",
            "    25_HR_1_6,477,628,628_1.jpg\n",
            "    25_HR_1_8,478,631,631_1.jpg\n",
            "    25_HR_1_8,472,637,637_1.jpg\n",
            "    25_HR_1_8,481,648,648_1.jpg\n",
            "    25_HR_1_11,478,650,650_1.jpg\n",
            "    25_HR_1_11,482,637,637_1.jpg\n",
            "    25_HR_1_9,483,633,633_1.jpg\n",
            "    25_HR_1_9,485,640,640_1.jpg\n",
            "    25_HR_1_9,485,640,640_1.jpg\n",
            "    25_HR_1_4,482,639,639_1.jpg\n",
            "    25_HR_1_4,500,633,633_1.jpg\n",
            "    25_HR_1_4,495,630,630_1.jpg\n",
            "21\n",
            "    21_4_142,245,155,155_0.jpg\n",
            "    21_4_142,247,154,154_0.jpg\n",
            "    21_4_151,251,146,146_0.jpg\n",
            "    21_4_149,250,147,147_0.jpg\n",
            "    21_4_150,251,146,146_0.jpg\n",
            "    21_4_146,244,153,153_0.jpg\n",
            "    21_4_143,240,160,160_0.jpg\n",
            "    21_4_140,243,159,159_0.jpg\n",
            "    21_4_144,249,151,151_0.jpg\n",
            "    21_4_138,257,153,153_0.jpg\n",
            "    21_4_138,258,155,155_0.jpg\n",
            "    21_4_135,258,157,157_0.jpg\n",
            "    21_4_137,260,146,146_0.jpg\n",
            "    21_4_140,255,145,145_0.jpg\n",
            "    21_4_137,247,150,150_0.jpg\n",
            "    21_5_147,136,260,260_0.jpg\n",
            "    21_5_146,136,262,262_0.jpg\n",
            "    21_5_142,132,267,267_0.jpg\n",
            "    21_5_145,144,259,259_0.jpg\n",
            "    21_5_149,140,262,262_0.jpg\n",
            "    21_5_149,144,261,261_0.jpg\n",
            "    21_5_153,150,252,252_0.jpg\n",
            "    21_5_149,147,260,260_0.jpg\n",
            "    21_5_149,143,265,265_0.jpg\n",
            "    21_5_145,149,264,264_0.jpg\n",
            "    21_5_145,144,267,267_0.jpg\n",
            "    21_5_142,140,271,271_0.jpg\n",
            "    21_5_141,139,274,274_0.jpg\n",
            "    21_5_148,148,261,261_0.jpg\n",
            "    21_5_145,147,262,262_0.jpg\n",
            "    21_7_177,163,170,170_0.jpg\n",
            "    21_7_175,162,167,167_0.jpg\n",
            "    21_7_185,155,169,169_0.jpg\n",
            "    21_7_191,156,168,168_0.jpg\n",
            "    21_7_197,158,169,169_0.jpg\n",
            "    21_7_198,160,164,164_0.jpg\n",
            "    21_7_205,157,160,160_0.jpg\n",
            "    21_7_188,149,174,174_0.jpg\n",
            "    21_7_187,150,174,174_0.jpg\n",
            "    21_7_197,154,168,168_0.jpg\n",
            "    21_7_198,155,164,164_0.jpg\n",
            "    21_7_210,155,164,164_0.jpg\n",
            "    21_7_213,153,171,171_0.jpg\n",
            "    21_7_204,158,167,167_0.jpg\n",
            "    21_7_205,159,167,167_0.jpg\n",
            "    21_1_202,98,222,222_1.jpg\n",
            "    21_1_199,98,221,221_1.jpg\n",
            "    21_1_198,96,224,224_1.jpg\n",
            "    21_1_202,100,219,219_1.jpg\n",
            "    21_1_200,98,223,223_1.jpg\n",
            "    21_1_203,103,215,215_1.jpg\n",
            "    21_1_201,101,217,217_1.jpg\n",
            "    21_1_204,103,212,212_1.jpg\n",
            "    21_1_202,103,215,215_1.jpg\n",
            "    21_1_202,101,217,217_1.jpg\n",
            "    21_1_198,99,224,224_1.jpg\n",
            "    21_1_202,101,220,220_1.jpg\n",
            "    21_1_204,102,214,214_1.jpg\n",
            "    21_1_205,104,213,213_1.jpg\n",
            "    21_1_206,104,213,213_1.jpg\n",
            "    21_2_91,141,204,204_1.jpg\n",
            "    21_2_89,138,206,206_1.jpg\n",
            "    21_2_89,137,205,205_1.jpg\n",
            "    21_2_86,138,203,203_1.jpg\n",
            "    21_2_89,142,200,200_1.jpg\n",
            "    21_2_82,136,212,212_1.jpg\n",
            "    21_2_87,138,207,207_1.jpg\n",
            "    21_2_87,140,205,205_1.jpg\n",
            "    21_2_91,146,196,196_1.jpg\n",
            "    21_2_85,140,207,207_1.jpg\n",
            "    21_2_87,140,206,206_1.jpg\n",
            "    21_2_93,142,199,199_1.jpg\n",
            "    21_2_90,140,199,199_1.jpg\n",
            "    21_2_89,140,201,201_1.jpg\n",
            "    21_2_87,138,203,203_1.jpg\n",
            "    21_HR_1_10,340,591,591_1.jpg\n",
            "    21_HR_1_8,339,595,595_1.jpg\n",
            "    21_HR_1_16,335,614,614_1.jpg\n",
            "    21_HR_1_9,350,600,600_1.jpg\n",
            "    21_HR_1_7,342,603,603_1.jpg\n",
            "    21_HR_1_4,348,585,585_1.jpg\n",
            "    21_HR_1_8,346,576,576_1.jpg\n",
            "    21_HR_1_10,346,589,589_1.jpg\n",
            "    21_HR_1_12,351,586,586_1.jpg\n",
            "    21_HR_1_17,344,583,583_1.jpg\n",
            "    21_HR_1_19,338,568,568_1.jpg\n",
            "    21_HR_1_9,337,593,593_1.jpg\n",
            "    21_HR_1_13,344,590,590_1.jpg\n",
            "    21_HR_1_11,344,599,599_1.jpg\n",
            "    21_HR_1_12,339,599,599_1.jpg\n",
            "23\n",
            "    23_4_142,208,188,188_0.jpg\n",
            "    23_4_145,210,185,185_0.jpg\n",
            "    23_4_143,210,189,189_0.jpg\n",
            "    23_4_151,214,182,182_0.jpg\n",
            "    23_4_145,212,188,188_0.jpg\n",
            "    23_4_148,214,184,184_0.jpg\n",
            "    23_4_148,215,185,185_0.jpg\n",
            "    23_4_147,214,183,183_0.jpg\n",
            "    23_4_143,215,191,191_0.jpg\n",
            "    23_4_149,218,184,184_0.jpg\n",
            "    23_4_151,212,182,182_0.jpg\n",
            "    23_4_150,210,180,180_0.jpg\n",
            "    23_4_150,210,181,181_0.jpg\n",
            "    23_4_152,210,180,180_0.jpg\n",
            "    23_4_147,211,183,183_0.jpg\n",
            "    23_5_222,102,261,261_0.jpg\n",
            "    23_5_217,107,260,260_0.jpg\n",
            "    23_5_218,107,260,260_0.jpg\n",
            "    23_5_216,109,258,258_0.jpg\n",
            "    23_5_212,107,269,269_0.jpg\n",
            "    23_5_217,114,261,261_0.jpg\n",
            "    23_5_217,115,261,261_0.jpg\n",
            "    23_5_218,114,261,261_0.jpg\n",
            "    23_5_214,115,265,265_0.jpg\n",
            "    23_5_216,118,261,261_0.jpg\n",
            "    23_5_219,121,255,255_0.jpg\n",
            "    23_5_217,120,259,259_0.jpg\n",
            "    23_5_216,118,260,260_0.jpg\n",
            "    23_5_221,121,255,255_0.jpg\n",
            "    23_5_219,119,261,261_0.jpg\n",
            "    23_8_138,154,227,227_0.jpg\n",
            "    23_8_135,155,227,227_0.jpg\n",
            "    23_8_135,162,232,232_0.jpg\n",
            "    23_8_134,162,236,236_0.jpg\n",
            "    23_8_134,166,234,234_0.jpg\n",
            "    23_8_128,168,233,233_0.jpg\n",
            "    23_8_134,176,230,230_0.jpg\n",
            "    23_8_137,174,229,229_0.jpg\n",
            "    23_8_141,172,228,228_0.jpg\n",
            "    23_8_136,172,228,228_0.jpg\n",
            "    23_8_135,164,233,233_0.jpg\n",
            "    23_8_135,165,238,238_0.jpg\n",
            "    23_8_135,164,241,241_0.jpg\n",
            "    23_8_135,165,240,240_0.jpg\n",
            "    23_8_134,164,241,241_0.jpg\n",
            "    23_1_186,81,201,201_1.jpg\n",
            "    23_1_185,85,199,199_1.jpg\n",
            "    23_1_187,86,197,197_1.jpg\n",
            "    23_1_196,88,209,209_1.jpg\n",
            "    23_1_195,84,205,205_1.jpg\n",
            "    23_1_196,84,201,201_1.jpg\n",
            "    23_1_195,85,204,204_1.jpg\n",
            "    23_1_197,86,198,198_1.jpg\n",
            "    23_1_197,86,196,196_1.jpg\n",
            "    23_1_195,85,198,198_1.jpg\n",
            "    23_1_196,84,199,199_1.jpg\n",
            "    23_1_196,84,199,199_1.jpg\n",
            "    23_1_196,86,196,196_1.jpg\n",
            "    23_1_193,85,199,199_1.jpg\n",
            "    23_1_193,86,194,194_1.jpg\n",
            "    23_2_138,119,203,203_1.jpg\n",
            "    23_2_139,118,204,204_1.jpg\n",
            "    23_2_142,118,200,200_1.jpg\n",
            "    23_2_144,118,198,198_1.jpg\n",
            "    23_2_144,116,200,200_1.jpg\n",
            "    23_2_144,118,204,204_1.jpg\n",
            "    23_2_145,118,203,203_1.jpg\n",
            "    23_2_147,116,201,201_1.jpg\n",
            "    23_2_146,119,200,200_1.jpg\n",
            "    23_2_144,118,201,201_1.jpg\n",
            "    23_2_145,119,198,198_1.jpg\n",
            "    23_2_144,120,199,199_1.jpg\n",
            "    23_2_146,118,198,198_1.jpg\n",
            "    23_2_145,119,197,197_1.jpg\n",
            "    23_2_144,120,199,199_1.jpg\n",
            "    23_HR_1_18,272,664,664_1.jpg\n",
            "6\n",
            "    6_HR_2_15,246,347,347_0.jpg\n",
            "    6_HR_2_3,320,607,607_0.jpg\n",
            "    6_5_176,197,259,259_0.jpg\n",
            "    6_5_173,193,263,263_0.jpg\n",
            "    6_5_166,198,258,258_0.jpg\n",
            "    6_5_162,200,258,258_0.jpg\n",
            "    6_5_165,201,258,258_0.jpg\n",
            "    6_5_164,193,265,265_0.jpg\n",
            "    6_5_166,197,264,264_0.jpg\n",
            "    6_5_164,197,264,264_0.jpg\n",
            "    6_5_163,198,263,263_0.jpg\n",
            "    6_5_165,200,263,263_0.jpg\n",
            "    6_5_165,200,259,259_0.jpg\n",
            "    6_5_162,200,259,259_0.jpg\n",
            "    6_5_159,197,264,264_0.jpg\n",
            "    6_5_166,202,258,258_0.jpg\n",
            "    6_7_295,147,210,210_0.jpg\n",
            "    6_7_292,147,211,211_0.jpg\n",
            "    6_7_291,145,213,213_0.jpg\n",
            "    6_7_284,146,218,218_0.jpg\n",
            "    6_7_284,144,217,217_0.jpg\n",
            "    6_7_286,149,208,208_0.jpg\n",
            "    6_7_286,147,211,211_0.jpg\n",
            "    6_7_287,147,213,213_0.jpg\n",
            "    6_7_287,148,211,211_0.jpg\n",
            "    6_7_289,140,210,210_0.jpg\n",
            "    6_7_292,141,206,206_0.jpg\n",
            "    6_7_288,136,212,212_0.jpg\n",
            "    6_7_288,138,213,213_0.jpg\n",
            "    6_7_287,138,215,215_0.jpg\n",
            "    6_1_181,100,200,200_1.jpg\n",
            "    6_1_189,101,204,204_1.jpg\n",
            "    6_1_190,101,204,204_1.jpg\n",
            "    6_1_187,100,209,209_1.jpg\n",
            "    6_1_188,99,209,209_1.jpg\n",
            "    6_1_190,100,204,204_1.jpg\n",
            "    6_1_177,101,204,204_1.jpg\n",
            "    6_1_171,101,207,207_1.jpg\n",
            "    6_1_169,101,209,209_1.jpg\n",
            "    6_1_172,103,206,206_1.jpg\n",
            "    6_1_171,101,209,209_1.jpg\n",
            "    6_1_173,102,207,207_1.jpg\n",
            "    6_1_174,103,206,206_1.jpg\n",
            "    6_1_168,106,205,205_1.jpg\n",
            "    6_2_119,168,202,202_1.jpg\n",
            "    6_2_120,168,202,202_1.jpg\n",
            "    6_2_125,169,199,199_1.jpg\n",
            "    6_2_123,168,202,202_1.jpg\n",
            "    6_2_124,176,189,189_1.jpg\n",
            "    6_2_124,176,190,190_1.jpg\n",
            "    6_2_124,175,190,190_1.jpg\n",
            "    6_2_123,175,193,193_1.jpg\n",
            "    6_2_123,175,193,193_1.jpg\n",
            "    6_2_124,176,191,191_1.jpg\n",
            "    6_2_126,176,192,192_1.jpg\n",
            "    6_2_126,174,192,192_1.jpg\n",
            "    6_2_127,174,191,191_1.jpg\n",
            "    6_2_126,174,192,192_1.jpg\n",
            "    6_2_127,176,191,191_1.jpg\n",
            "    6_HR_1_86,280,617,617_1.jpg\n",
            "    6_HR_1_72,269,634,634_1.jpg\n",
            "    6_HR_1_82,277,625,625_1.jpg\n",
            "    6_HR_1_60,288,641,641_1.jpg\n",
            "    6_HR_1_66,289,633,633_1.jpg\n",
            "    6_HR_1_38,296,650,650_1.jpg\n",
            "    6_HR_1_39,295,653,653_1.jpg\n",
            "    6_HR_1_42,294,648,648_1.jpg\n",
            "    6_HR_1_31,292,651,651_1.jpg\n",
            "    6_HR_1_37,292,651,651_1.jpg\n",
            "    6_HR_1_35,300,654,654_1.jpg\n",
            "    6_HR_1_43,307,637,637_1.jpg\n",
            "    6_HR_1_52,281,631,631_1.jpg\n",
            "    6_HR_1_54,250,645,645_1.jpg\n",
            "    6_HR_1_45,265,647,647_1.jpg\n",
            "5\n",
            "    5_3_183,186,287,287_0.jpg\n",
            "    5_3_178,182,279,279_0.jpg\n",
            "    5_3_186,179,277,277_0.jpg\n",
            "    5_3_192,181,272,272_0.jpg\n",
            "    5_3_194,177,283,283_0.jpg\n",
            "    5_3_192,192,279,279_0.jpg\n",
            "    5_3_189,191,281,281_0.jpg\n",
            "    5_3_189,192,280,280_0.jpg\n",
            "    5_3_186,196,275,275_0.jpg\n",
            "    5_3_189,190,279,279_0.jpg\n",
            "    5_3_182,179,299,299_0.jpg\n",
            "    5_3_192,206,266,266_0.jpg\n",
            "    5_3_196,209,264,264_0.jpg\n",
            "    5_3_187,205,270,270_0.jpg\n",
            "    5_HR_3_34,321,649,649_0.jpg\n",
            "    5_HR_3_37,321,640,640_0.jpg\n",
            "    5_HR_3_54,335,621,621_0.jpg\n",
            "    5_HR_3_56,333,630,630_0.jpg\n",
            "    5_HR_3_58,339,626,626_0.jpg\n",
            "    5_HR_3_50,326,632,632_0.jpg\n",
            "    5_HR_3_60,338,615,615_0.jpg\n",
            "    5_HR_3_58,326,632,632_0.jpg\n",
            "    5_HR_3_75,350,595,595_0.jpg\n",
            "    5_HR_3_65,337,615,615_0.jpg\n",
            "    5_HR_3_65,341,610,610_0.jpg\n",
            "    5_HR_3_67,349,598,598_0.jpg\n",
            "    5_HR_3_61,325,644,644_0.jpg\n",
            "    5_HR_3_48,316,654,654_0.jpg\n",
            "    5_7_262,183,230,230_0.jpg\n",
            "    5_7_265,183,232,232_0.jpg\n",
            "    5_7_266,182,234,234_0.jpg\n",
            "    5_7_267,181,234,234_0.jpg\n",
            "    5_7_268,184,229,229_0.jpg\n",
            "    5_7_267,184,233,233_0.jpg\n",
            "    5_7_266,184,232,232_0.jpg\n",
            "    5_7_268,185,228,228_0.jpg\n",
            "    5_7_267,184,232,232_0.jpg\n",
            "    5_7_268,184,231,231_0.jpg\n",
            "    5_7_270,186,229,229_0.jpg\n",
            "    5_7_271,188,222,222_0.jpg\n",
            "    5_7_268,184,231,231_0.jpg\n",
            "    5_7_269,185,230,230_0.jpg\n",
            "    5_7_272,186,227,227_0.jpg\n",
            "    5_1_266,127,232,232_1.jpg\n",
            "    5_1_266,127,228,228_1.jpg\n",
            "    5_1_264,126,231,231_1.jpg\n",
            "    5_1_266,126,231,231_1.jpg\n",
            "    5_1_268,128,226,226_1.jpg\n",
            "    5_1_264,125,231,231_1.jpg\n",
            "    5_1_265,126,228,228_1.jpg\n",
            "    5_1_264,127,228,228_1.jpg\n",
            "    5_1_267,126,228,228_1.jpg\n",
            "    5_1_271,127,224,224_1.jpg\n",
            "    5_1_272,128,226,226_1.jpg\n",
            "    5_1_269,128,226,226_1.jpg\n",
            "    5_1_271,128,224,224_1.jpg\n",
            "    5_1_271,128,227,227_1.jpg\n",
            "    5_1_271,127,228,228_1.jpg\n",
            "    5_2_157,201,184,184_1.jpg\n",
            "    5_2_157,200,184,184_1.jpg\n",
            "    5_2_158,201,183,183_1.jpg\n",
            "    5_2_159,200,185,185_1.jpg\n",
            "    5_2_159,201,183,183_1.jpg\n",
            "    5_2_160,201,182,182_1.jpg\n",
            "    5_2_160,201,184,184_1.jpg\n",
            "    5_2_158,200,185,185_1.jpg\n",
            "    5_2_160,200,184,184_1.jpg\n",
            "    5_2_159,199,186,186_1.jpg\n",
            "    5_2_160,199,185,185_1.jpg\n",
            "    5_2_159,200,184,184_1.jpg\n",
            "    5_2_160,201,182,182_1.jpg\n",
            "    5_2_158,200,183,183_1.jpg\n",
            "    5_2_157,201,180,180_1.jpg\n",
            "19\n",
            "    19_4_128,126,251,251_0.jpg\n",
            "    19_4_125,120,257,257_0.jpg\n",
            "    19_4_123,118,261,261_0.jpg\n",
            "    19_4_119,118,256,256_0.jpg\n",
            "    19_4_122,119,255,255_0.jpg\n",
            "    19_4_120,117,260,260_0.jpg\n",
            "    19_4_123,127,247,247_0.jpg\n",
            "    19_4_120,123,253,253_0.jpg\n",
            "    19_4_120,136,256,256_0.jpg\n",
            "    19_4_126,114,259,259_0.jpg\n",
            "    19_4_125,113,260,260_0.jpg\n",
            "    19_4_123,121,255,255_0.jpg\n",
            "    19_4_127,129,264,264_0.jpg\n",
            "    19_4_125,136,256,256_0.jpg\n",
            "    19_4_130,136,259,259_0.jpg\n",
            "    19_HR_3_35,521,630,630_0.jpg\n",
            "    19_HR_3_29,515,642,642_0.jpg\n",
            "    19_HR_3_27,516,638,638_0.jpg\n",
            "    19_HR_3_38,527,621,621_0.jpg\n",
            "    19_HR_3_33,505,625,625_0.jpg\n",
            "    19_HR_3_27,498,636,636_0.jpg\n",
            "    19_HR_3_34,499,626,626_0.jpg\n",
            "    19_HR_3_40,507,630,630_0.jpg\n",
            "    19_HR_3_38,507,621,621_0.jpg\n",
            "    19_HR_3_35,500,621,621_0.jpg\n",
            "    19_HR_3_33,496,626,626_0.jpg\n",
            "    19_HR_3_33,499,626,626_0.jpg\n",
            "    19_HR_3_32,501,625,625_0.jpg\n",
            "    19_HR_3_37,501,630,630_0.jpg\n",
            "    19_HR_3_40,497,628,628_0.jpg\n",
            "    19_HR_4_32,375,639,639_0.jpg\n",
            "    19_HR_4_33,379,632,632_0.jpg\n",
            "    19_HR_4_28,373,642,642_0.jpg\n",
            "    19_HR_4_40,381,623,623_0.jpg\n",
            "    19_HR_4_39,375,641,641_0.jpg\n",
            "    19_HR_4_33,379,639,639_0.jpg\n",
            "    19_HR_4_30,372,637,637_0.jpg\n",
            "    19_HR_4_34,364,638,638_0.jpg\n",
            "    19_HR_4_41,375,631,631_0.jpg\n",
            "    19_HR_4_38,375,628,628_0.jpg\n",
            "    19_HR_4_27,370,641,641_0.jpg\n",
            "    19_HR_4_35,378,629,629_0.jpg\n",
            "    19_HR_4_35,376,627,627_0.jpg\n",
            "    19_HR_4_39,379,624,624_0.jpg\n",
            "    19_HR_4_26,364,658,658_0.jpg\n",
            "    19_1_282,144,190,190_1.jpg\n",
            "    19_1_276,142,197,197_1.jpg\n",
            "    19_1_279,144,195,195_1.jpg\n",
            "    19_1_275,143,198,198_1.jpg\n",
            "    19_1_277,146,194,194_1.jpg\n",
            "    19_1_272,142,202,202_1.jpg\n",
            "    19_1_281,145,181,181_1.jpg\n",
            "    19_1_278,144,185,185_1.jpg\n",
            "    19_1_280,142,185,185_1.jpg\n",
            "    19_1_283,145,181,181_1.jpg\n",
            "    19_1_284,146,179,179_1.jpg\n",
            "    19_1_284,145,180,180_1.jpg\n",
            "    19_1_285,145,178,178_1.jpg\n",
            "    19_1_285,146,178,178_1.jpg\n",
            "    19_1_280,147,182,182_1.jpg\n",
            "    19_2_134,101,196,196_1.jpg\n",
            "    19_2_136,100,198,198_1.jpg\n",
            "    19_2_135,100,197,197_1.jpg\n",
            "    19_2_135,101,197,197_1.jpg\n",
            "    19_2_136,102,196,196_1.jpg\n",
            "    19_2_136,101,198,198_1.jpg\n",
            "    19_2_138,104,194,194_1.jpg\n",
            "    19_2_136,99,200,200_1.jpg\n",
            "    19_2_138,101,201,201_1.jpg\n",
            "    19_2_140,103,199,199_1.jpg\n",
            "    19_2_140,103,200,200_1.jpg\n",
            "    19_2_140,101,202,202_1.jpg\n",
            "    19_2_141,103,199,199_1.jpg\n",
            "    19_2_142,103,199,199_1.jpg\n",
            "    19_2_142,103,198,198_1.jpg\n",
            "    19_HR_1_25,385,639,639_1.jpg\n",
            "    19_HR_1_33,388,630,630_1.jpg\n",
            "    19_HR_1_31,398,628,628_1.jpg\n",
            "    19_HR_1_29,393,633,633_1.jpg\n",
            "    19_HR_1_30,397,634,634_1.jpg\n",
            "    19_HR_1_20,378,652,652_1.jpg\n",
            "    19_HR_1_19,385,649,649_1.jpg\n",
            "    19_HR_1_19,393,651,651_1.jpg\n",
            "    19_HR_1_27,394,635,635_1.jpg\n",
            "    19_HR_1_26,390,635,635_1.jpg\n",
            "    19_HR_1_24,384,639,639_1.jpg\n",
            "    19_HR_1_28,387,634,634_1.jpg\n",
            "    19_HR_1_27,394,635,635_1.jpg\n",
            "    19_HR_1_26,389,636,636_1.jpg\n",
            "    19_HR_1_30,393,625,625_1.jpg\n",
            "7\n",
            "    7_HR_2_129,438,566,566_0.jpg\n",
            "    7_HR_2_304,320,90,90_0.jpg\n",
            "    7_HR_2_142,415,550,550_0.jpg\n",
            "    7_HR_2_131,418,563,563_0.jpg\n",
            "    7_HR_2_109,402,590,590_0.jpg\n",
            "    7_HR_2_115,442,575,575_0.jpg\n",
            "    7_HR_2_128,415,548,548_0.jpg\n",
            "    7_HR_2_163,439,523,523_0.jpg\n",
            "    7_HR_2_130,414,551,551_0.jpg\n",
            "    7_HR_2_142,398,541,541_0.jpg\n",
            "    7_HR_2_150,400,537,537_0.jpg\n",
            "    7_HR_2_138,423,542,542_0.jpg\n",
            "    7_HR_2_132,416,552,552_0.jpg\n",
            "    7_HR_2_139,428,538,538_0.jpg\n",
            "    7_HR_2_132,428,550,550_0.jpg\n",
            "    7_6_182,185,191,191_0.jpg\n",
            "    7_6_180,186,191,191_0.jpg\n",
            "    7_6_178,185,193,193_0.jpg\n",
            "    7_6_176,185,197,197_0.jpg\n",
            "    7_6_177,186,196,196_0.jpg\n",
            "    7_6_177,187,196,196_0.jpg\n",
            "    7_6_176,187,198,198_0.jpg\n",
            "    7_6_179,188,195,195_0.jpg\n",
            "    7_6_178,188,200,200_0.jpg\n",
            "    7_6_178,188,200,200_0.jpg\n",
            "    7_6_182,195,194,194_0.jpg\n",
            "    7_6_180,195,196,196_0.jpg\n",
            "    7_6_181,193,197,197_0.jpg\n",
            "    7_6_182,192,196,196_0.jpg\n",
            "    7_6_183,191,198,198_0.jpg\n",
            "    7_7_279,162,189,189_0.jpg\n",
            "    7_7_281,163,189,189_0.jpg\n",
            "    7_7_282,164,187,187_0.jpg\n",
            "    7_7_286,165,184,184_0.jpg\n",
            "    7_7_284,163,187,187_0.jpg\n",
            "    7_7_284,162,189,189_0.jpg\n",
            "    7_7_287,163,186,186_0.jpg\n",
            "    7_7_286,163,187,187_0.jpg\n",
            "    7_7_288,164,182,182_0.jpg\n",
            "    7_7_287,162,184,184_0.jpg\n",
            "    7_7_290,163,181,181_0.jpg\n",
            "    7_7_288,160,184,184_0.jpg\n",
            "    7_7_288,162,182,182_0.jpg\n",
            "    7_7_284,159,187,187_0.jpg\n",
            "    7_7_284,159,187,187_0.jpg\n",
            "    7_1_204,105,196,196_1.jpg\n",
            "    7_1_203,104,192,192_1.jpg\n",
            "    7_1_205,103,190,190_1.jpg\n",
            "    7_1_204,99,197,197_1.jpg\n",
            "    7_1_205,102,192,192_1.jpg\n",
            "    7_1_203,96,199,199_1.jpg\n",
            "    7_1_201,97,199,199_1.jpg\n",
            "    7_1_203,99,197,197_1.jpg\n",
            "    7_1_202,98,200,200_1.jpg\n",
            "    7_1_203,98,199,199_1.jpg\n",
            "    7_1_203,98,197,197_1.jpg\n",
            "    7_1_200,96,199,199_1.jpg\n",
            "    7_1_201,96,196,196_1.jpg\n",
            "    7_1_201,96,199,199_1.jpg\n",
            "    7_1_208,97,191,191_1.jpg\n",
            "    7_2_96,130,194,194_1.jpg\n",
            "    7_2_94,128,198,198_1.jpg\n",
            "    7_2_94,129,198,198_1.jpg\n",
            "    7_2_96,130,196,196_1.jpg\n",
            "    7_2_94,130,196,196_1.jpg\n",
            "    7_2_97,133,193,193_1.jpg\n",
            "    7_2_93,133,195,195_1.jpg\n",
            "    7_2_92,132,196,196_1.jpg\n",
            "    7_2_91,131,197,197_1.jpg\n",
            "    7_2_92,132,195,195_1.jpg\n",
            "    7_2_93,132,195,195_1.jpg\n",
            "    7_2_93,132,195,195_1.jpg\n",
            "    7_2_94,132,194,194_1.jpg\n",
            "    7_2_92,131,196,196_1.jpg\n",
            "    7_2_93,132,196,196_1.jpg\n",
            "    7_HR_1_40,349,599,599_1.jpg\n",
            "    7_HR_1_46,362,592,592_1.jpg\n",
            "    7_HR_1_47,345,602,602_1.jpg\n",
            "    7_HR_1_48,344,596,596_1.jpg\n",
            "    7_HR_1_48,347,594,594_1.jpg\n",
            "    7_HR_1_49,345,593,593_1.jpg\n",
            "    7_HR_1_49,343,592,592_1.jpg\n",
            "    7_HR_1_47,340,599,599_1.jpg\n",
            "    7_HR_1_47,332,604,604_1.jpg\n",
            "    7_HR_1_49,334,599,599_1.jpg\n",
            "    7_HR_1_50,342,596,596_1.jpg\n",
            "    7_HR_1_51,339,597,597_1.jpg\n",
            "    7_HR_1_46,337,600,600_1.jpg\n",
            "    7_HR_1_43,334,601,601_1.jpg\n",
            "    7_HR_1_39,326,603,603_1.jpg\n",
            "10\n",
            "    10_HR_2_46,377,628,628_0.jpg\n",
            "    10_HR_2_34,371,623,623_0.jpg\n",
            "    10_HR_2_51,334,613,613_0.jpg\n",
            "    10_HR_2_36,313,622,622_0.jpg\n",
            "    10_HR_2_58,330,592,592_0.jpg\n",
            "    10_HR_2_38,293,628,628_0.jpg\n",
            "    10_HR_2_46,298,619,619_0.jpg\n",
            "    10_HR_2_46,285,627,627_0.jpg\n",
            "    10_HR_2_33,297,621,621_0.jpg\n",
            "    10_HR_2_35,283,621,621_0.jpg\n",
            "    10_HR_2_36,281,623,623_0.jpg\n",
            "    10_HR_2_43,270,631,631_0.jpg\n",
            "    10_HR_2_40,272,627,627_0.jpg\n",
            "    10_HR_2_46,277,624,624_0.jpg\n",
            "    10_HR_2_46,270,629,629_0.jpg\n",
            "    10_HR_3_72,374,574,574_0.jpg\n",
            "    10_HR_3_75,373,574,574_0.jpg\n",
            "    10_HR_3_71,372,578,578_0.jpg\n",
            "    10_HR_3_68,373,575,575_0.jpg\n",
            "    10_HR_3_75,379,570,570_0.jpg\n",
            "    10_HR_3_76,379,569,569_0.jpg\n",
            "    10_HR_3_69,378,574,574_0.jpg\n",
            "    10_HR_3_74,386,572,572_0.jpg\n",
            "    10_HR_3_79,392,572,572_0.jpg\n",
            "    10_HR_3_83,391,568,568_0.jpg\n",
            "    10_HR_3_83,394,566,566_0.jpg\n",
            "    10_HR_3_80,391,575,575_0.jpg\n",
            "    10_HR_3_83,394,568,568_0.jpg\n",
            "    10_HR_3_80,395,573,573_0.jpg\n",
            "    10_HR_3_71,388,585,585_0.jpg\n",
            "    10_HR_4_31,412,628,628_0.jpg\n",
            "    10_HR_4_33,421,626,626_0.jpg\n",
            "    10_HR_4_35,415,626,626_0.jpg\n",
            "    10_HR_4_32,434,614,614_0.jpg\n",
            "    10_HR_4_32,416,633,633_0.jpg\n",
            "    10_HR_4_39,421,614,614_0.jpg\n",
            "    10_HR_4_48,435,613,613_0.jpg\n",
            "    10_HR_4_45,432,615,615_0.jpg\n",
            "    10_HR_4_46,436,617,617_0.jpg\n",
            "    10_HR_4_51,437,621,621_0.jpg\n",
            "    10_HR_4_44,443,619,619_0.jpg\n",
            "    10_HR_4_52,438,615,615_0.jpg\n",
            "    10_HR_4_52,406,624,624_0.jpg\n",
            "    10_HR_4_55,413,623,623_0.jpg\n",
            "    10_HR_4_43,423,628,628_0.jpg\n",
            "    10_1_282,157,225,225_1.jpg\n",
            "    10_1_279,154,234,234_1.jpg\n",
            "    10_1_286,158,226,226_1.jpg\n",
            "    10_1_280,153,235,235_1.jpg\n",
            "    10_1_280,156,230,230_1.jpg\n",
            "    10_1_279,155,233,233_1.jpg\n",
            "    10_1_283,162,226,226_1.jpg\n",
            "    10_1_283,162,230,230_1.jpg\n",
            "    10_1_286,161,228,228_1.jpg\n",
            "    10_1_270,156,237,237_1.jpg\n",
            "    10_1_271,156,234,234_1.jpg\n",
            "    10_1_281,165,221,221_1.jpg\n",
            "    10_1_280,159,231,231_1.jpg\n",
            "    10_1_279,157,233,233_1.jpg\n",
            "    10_1_279,155,236,236_1.jpg\n",
            "    10_2_209,111,180,180_1.jpg\n",
            "    10_2_211,105,190,190_1.jpg\n",
            "    10_2_211,106,189,189_1.jpg\n",
            "    10_2_208,104,193,193_1.jpg\n",
            "    10_2_207,105,193,193_1.jpg\n",
            "    10_2_208,105,192,192_1.jpg\n",
            "    10_2_210,108,185,185_1.jpg\n",
            "    10_2_208,113,180,180_1.jpg\n",
            "    10_2_208,111,181,181_1.jpg\n",
            "    10_2_207,109,181,181_1.jpg\n",
            "    10_2_208,110,180,180_1.jpg\n",
            "    10_2_204,106,185,185_1.jpg\n",
            "    10_2_206,108,181,181_1.jpg\n",
            "    10_2_200,104,188,188_1.jpg\n",
            "    10_2_201,105,186,186_1.jpg\n",
            "    10_HR_1_34,428,630,630_1.jpg\n",
            "    10_HR_1_40,433,623,623_1.jpg\n",
            "    10_HR_1_40,428,619,619_1.jpg\n",
            "    10_HR_1_40,436,620,620_1.jpg\n",
            "    10_HR_1_38,439,613,613_1.jpg\n",
            "    10_HR_1_41,432,618,618_1.jpg\n",
            "    10_HR_1_46,431,625,625_1.jpg\n",
            "    10_HR_1_44,439,629,629_1.jpg\n",
            "    10_HR_1_44,438,622,622_1.jpg\n",
            "    10_HR_1_39,434,635,635_1.jpg\n",
            "    10_HR_1_44,427,629,629_1.jpg\n",
            "    10_HR_1_46,433,622,622_1.jpg\n",
            "    10_HR_1_45,446,625,625_1.jpg\n",
            "    10_HR_1_54,439,613,613_1.jpg\n",
            "    10_HR_1_54,436,621,621_1.jpg\n",
            "22\n",
            "    22_HR_2_64,439,270,270_0.jpg\n",
            "    22_HR_2_62,435,275,275_0.jpg\n",
            "    22_HR_2_46,428,276,276_0.jpg\n",
            "    22_HR_2_65,405,275,275_0.jpg\n",
            "    22_HR_2_54,418,258,258_0.jpg\n",
            "    22_HR_2_29,444,649,649_0.jpg\n",
            "    22_HR_2_57,390,280,280_0.jpg\n",
            "    22_HR_2_44,370,293,293_0.jpg\n",
            "    22_HR_2_27,348,649,649_0.jpg\n",
            "    22_HR_2_38,330,621,621_0.jpg\n",
            "    22_HR_2_27,320,646,646_0.jpg\n",
            "    22_HR_2_49,330,277,277_0.jpg\n",
            "    22_HR_2_33,309,644,644_0.jpg\n",
            "    22_HR_2_43,320,277,277_0.jpg\n",
            "    22_HR_2_38,322,280,280_0.jpg\n",
            "    22_6_195,153,168,168_0.jpg\n",
            "    22_6_196,152,171,171_0.jpg\n",
            "    22_6_196,153,169,169_0.jpg\n",
            "    22_6_195,154,168,168_0.jpg\n",
            "    22_6_195,153,170,170_0.jpg\n",
            "    22_6_196,154,167,167_0.jpg\n",
            "    22_6_196,152,171,171_0.jpg\n",
            "    22_6_194,155,166,166_0.jpg\n",
            "    22_6_197,153,169,169_0.jpg\n",
            "    22_6_199,155,165,165_0.jpg\n",
            "    22_6_199,155,166,166_0.jpg\n",
            "    22_6_197,153,167,167_0.jpg\n",
            "    22_6_199,153,167,167_0.jpg\n",
            "    22_6_203,155,165,165_0.jpg\n",
            "    22_6_198,153,169,169_0.jpg\n",
            "    22_8_163,198,181,181_0.jpg\n",
            "    22_8_164,199,182,182_0.jpg\n",
            "    22_8_161,195,186,186_0.jpg\n",
            "    22_8_163,200,180,180_0.jpg\n",
            "    22_8_162,201,179,179_0.jpg\n",
            "    22_8_163,201,180,180_0.jpg\n",
            "    22_8_163,198,186,186_0.jpg\n",
            "    22_8_164,197,184,184_0.jpg\n",
            "    22_8_164,199,184,184_0.jpg\n",
            "    22_8_165,199,182,182_0.jpg\n",
            "    22_8_161,198,182,182_0.jpg\n",
            "    22_8_160,199,183,183_0.jpg\n",
            "    22_8_159,197,185,185_0.jpg\n",
            "    22_8_162,196,186,186_0.jpg\n",
            "    22_8_158,193,187,187_0.jpg\n",
            "    22_1_237,97,227,227_1.jpg\n",
            "    22_1_239,100,223,223_1.jpg\n",
            "    22_1_240,97,219,219_1.jpg\n",
            "    22_1_243,97,215,215_1.jpg\n",
            "    22_1_242,100,213,213_1.jpg\n",
            "    22_1_242,100,215,215_1.jpg\n",
            "    22_1_245,100,213,213_1.jpg\n",
            "    22_1_258,101,203,203_1.jpg\n",
            "    22_1_259,103,197,197_1.jpg\n",
            "    22_1_258,106,195,195_1.jpg\n",
            "    22_1_255,104,198,198_1.jpg\n",
            "    22_1_242,98,214,214_1.jpg\n",
            "    22_1_242,97,213,213_1.jpg\n",
            "    22_1_250,103,207,207_1.jpg\n",
            "    22_1_251,106,203,203_1.jpg\n",
            "    22_2_126,130,194,194_1.jpg\n",
            "    22_2_126,129,197,197_1.jpg\n",
            "    22_2_119,124,199,199_1.jpg\n",
            "    22_2_124,131,197,197_1.jpg\n",
            "    22_2_123,128,200,200_1.jpg\n",
            "    22_2_127,132,194,194_1.jpg\n",
            "    22_2_124,130,199,199_1.jpg\n",
            "    22_2_123,128,203,203_1.jpg\n",
            "    22_2_125,131,198,198_1.jpg\n",
            "    22_2_125,126,202,202_1.jpg\n",
            "    22_2_127,129,201,201_1.jpg\n",
            "    22_2_126,130,201,201_1.jpg\n",
            "    22_2_126,134,198,198_1.jpg\n",
            "    22_2_123,132,201,201_1.jpg\n",
            "    22_2_123,132,201,201_1.jpg\n",
            "    22_HR_1_20,401,639,639_1.jpg\n",
            "    22_HR_1_34,420,618,618_1.jpg\n",
            "    22_HR_1_31,423,621,621_1.jpg\n",
            "    22_HR_1_30,415,620,620_1.jpg\n",
            "    22_HR_1_29,412,638,638_1.jpg\n",
            "    22_HR_1_31,409,620,620_1.jpg\n",
            "    22_HR_1_46,439,274,274_1.jpg\n",
            "    22_HR_1_30,410,632,632_1.jpg\n",
            "    22_HR_1_31,410,635,635_1.jpg\n",
            "    22_HR_1_29,408,636,636_1.jpg\n",
            "    22_HR_1_24,414,630,630_1.jpg\n",
            "    22_HR_1_26,410,629,629_1.jpg\n",
            "    22_HR_1_21,421,631,631_1.jpg\n",
            "    22_HR_1_26,406,634,634_1.jpg\n",
            "    22_HR_1_13,420,629,629_1.jpg\n",
            "4\n",
            "    4_4_165,239,68,68_0.jpg\n",
            "    4_4_159,229,145,145_0.jpg\n",
            "    4_4_154,227,152,152_0.jpg\n",
            "    4_4_158,228,142,142_0.jpg\n",
            "    4_4_155,224,146,146_0.jpg\n",
            "    4_4_153,230,141,141_0.jpg\n",
            "    4_4_151,230,144,144_0.jpg\n",
            "    4_4_153,234,137,137_0.jpg\n",
            "    4_4_152,231,141,141_0.jpg\n",
            "    4_4_155,235,142,142_0.jpg\n",
            "    4_4_158,236,140,140_0.jpg\n",
            "    4_4_162,238,137,137_0.jpg\n",
            "    4_4_151,244,71,71_0.jpg\n",
            "    4_4_147,245,68,68_0.jpg\n",
            "    4_HR_3_9,290,586,586_0.jpg\n",
            "    4_HR_3_39,341,268,268_0.jpg\n",
            "    4_HR_3_25,310,560,560_0.jpg\n",
            "    4_HR_3_12,307,561,561_0.jpg\n",
            "    4_HR_3_11,299,554,554_0.jpg\n",
            "    4_HR_3_10,289,567,567_0.jpg\n",
            "    4_HR_3_13,304,564,564_0.jpg\n",
            "    4_HR_3_25,331,292,292_0.jpg\n",
            "    4_HR_3_36,318,283,283_0.jpg\n",
            "    4_7_276,171,178,178_0.jpg\n",
            "    4_7_274,168,182,182_0.jpg\n",
            "    4_7_280,171,172,172_0.jpg\n",
            "    4_7_277,171,178,178_0.jpg\n",
            "    4_7_280,171,178,178_0.jpg\n",
            "    4_7_277,177,180,180_0.jpg\n",
            "    4_7_277,176,183,183_0.jpg\n",
            "    4_7_274,176,187,187_0.jpg\n",
            "    4_7_278,178,180,180_0.jpg\n",
            "    4_7_289,176,188,188_0.jpg\n",
            "    4_7_291,181,183,183_0.jpg\n",
            "    4_7_289,179,185,185_0.jpg\n",
            "    4_7_294,180,180,180_0.jpg\n",
            "    4_7_286,178,188,188_0.jpg\n",
            "    4_1_277,187,186,186_1.jpg\n",
            "    4_1_276,185,189,189_1.jpg\n",
            "    4_1_271,181,198,198_1.jpg\n",
            "    4_1_270,178,202,202_1.jpg\n",
            "    4_1_274,182,193,193_1.jpg\n",
            "    4_1_275,184,192,192_1.jpg\n",
            "    4_1_274,183,190,190_1.jpg\n",
            "    4_1_272,182,195,195_1.jpg\n",
            "    4_1_271,180,196,196_1.jpg\n",
            "    4_1_273,182,194,194_1.jpg\n",
            "    4_1_271,181,197,197_1.jpg\n",
            "    4_1_271,181,196,196_1.jpg\n",
            "    4_1_270,180,198,198_1.jpg\n",
            "    4_1_271,181,197,197_1.jpg\n",
            "    4_1_272,180,195,195_1.jpg\n",
            "    4_2_137,110,204,204_1.jpg\n",
            "    4_2_136,110,204,204_1.jpg\n",
            "    4_2_135,109,205,205_1.jpg\n",
            "    4_2_135,109,205,205_1.jpg\n",
            "    4_2_128,105,214,214_1.jpg\n",
            "    4_2_131,108,208,208_1.jpg\n",
            "    4_2_129,107,211,211_1.jpg\n",
            "    4_2_130,104,214,214_1.jpg\n",
            "    4_2_130,108,210,210_1.jpg\n",
            "    4_2_131,107,210,210_1.jpg\n",
            "    4_2_132,108,209,209_1.jpg\n",
            "    4_2_133,109,207,207_1.jpg\n",
            "    4_2_134,111,204,204_1.jpg\n",
            "    4_2_129,108,209,209_1.jpg\n",
            "    4_2_131,111,203,203_1.jpg\n",
            "    4_HR_1_9,359,586,586_1.jpg\n",
            "    4_HR_1_4,343,586,586_1.jpg\n",
            "    4_HR_1_7,350,606,606_1.jpg\n",
            "    4_HR_1_32,399,287,287_1.jpg\n",
            "    4_HR_1_17,362,594,594_1.jpg\n",
            "    4_HR_1_20,409,305,305_1.jpg\n",
            "    4_HR_1_11,396,570,570_1.jpg\n",
            "    4_HR_1_21,405,316,316_1.jpg\n",
            "    4_HR_1_28,401,607,607_1.jpg\n",
            "    4_HR_1_25,385,626,626_1.jpg\n",
            "    4_HR_1_38,395,618,618_1.jpg\n",
            "    4_HR_1_43,395,601,601_1.jpg\n",
            "    4_HR_1_33,392,631,631_1.jpg\n",
            "    4_HR_1_40,388,608,608_1.jpg\n",
            "    4_HR_1_27,390,606,606_1.jpg\n",
            "29\n",
            "    29_HR_3_79,301,631,631_0.jpg\n",
            "    29_HR_3_81,290,634,634_0.jpg\n",
            "    29_HR_3_82,285,631,631_0.jpg\n",
            "    29_HR_3_62,275,647,647_0.jpg\n",
            "    29_HR_3_60,272,644,644_0.jpg\n",
            "    29_HR_3_62,273,644,644_0.jpg\n",
            "    29_HR_3_60,274,639,639_0.jpg\n",
            "    29_HR_3_69,274,634,634_0.jpg\n",
            "    29_HR_3_58,273,641,641_0.jpg\n",
            "    29_HR_3_71,275,628,628_0.jpg\n",
            "    29_HR_3_74,275,633,633_0.jpg\n",
            "    29_HR_3_58,261,646,646_0.jpg\n",
            "    29_HR_3_64,264,637,637_0.jpg\n",
            "    29_HR_3_70,271,637,637_0.jpg\n",
            "    29_HR_3_55,267,644,644_0.jpg\n",
            "    29_7_220,127,204,204_0.jpg\n",
            "    29_7_222,122,203,203_0.jpg\n",
            "    29_7_227,122,202,202_0.jpg\n",
            "    29_7_226,124,202,202_0.jpg\n",
            "    29_7_225,123,204,204_0.jpg\n",
            "    29_7_225,121,205,205_0.jpg\n",
            "    29_7_226,122,206,206_0.jpg\n",
            "    29_7_225,121,204,204_0.jpg\n",
            "    29_7_230,120,205,205_0.jpg\n",
            "    29_7_230,121,212,212_0.jpg\n",
            "    29_7_236,127,203,203_0.jpg\n",
            "    29_7_234,126,205,205_0.jpg\n",
            "    29_7_236,126,205,205_0.jpg\n",
            "    29_7_231,127,204,204_0.jpg\n",
            "    29_7_235,130,208,208_0.jpg\n",
            "    29_1_269,109,202,202_1.jpg\n",
            "    29_1_272,108,198,198_1.jpg\n",
            "    29_1_272,108,198,198_1.jpg\n",
            "    29_1_272,107,200,200_1.jpg\n",
            "    29_1_272,107,199,199_1.jpg\n",
            "    29_1_273,109,199,199_1.jpg\n",
            "    29_1_276,111,199,199_1.jpg\n",
            "    29_1_275,110,202,202_1.jpg\n",
            "    29_1_276,111,199,199_1.jpg\n",
            "    29_1_275,110,199,199_1.jpg\n",
            "    29_1_275,111,198,198_1.jpg\n",
            "    29_1_275,111,199,199_1.jpg\n",
            "    29_1_273,111,201,201_1.jpg\n",
            "    29_1_272,111,202,202_1.jpg\n",
            "    29_1_274,112,200,200_1.jpg\n",
            "    29_2_142,154,189,189_1.jpg\n",
            "    29_2_144,155,187,187_1.jpg\n",
            "    29_2_146,157,184,184_1.jpg\n",
            "    29_2_143,156,187,187_1.jpg\n",
            "    29_2_144,154,188,188_1.jpg\n",
            "    29_2_143,153,189,189_1.jpg\n",
            "    29_2_143,154,187,187_1.jpg\n",
            "    29_2_142,153,189,189_1.jpg\n",
            "    29_2_143,154,189,189_1.jpg\n",
            "    29_2_144,155,186,186_1.jpg\n",
            "    29_2_141,154,189,189_1.jpg\n",
            "    29_2_143,153,189,189_1.jpg\n",
            "    29_2_142,152,189,189_1.jpg\n",
            "    29_2_144,156,186,186_1.jpg\n",
            "    29_2_144,154,188,188_1.jpg\n",
            "    29_HR_1_58,335,636,636_1.jpg\n",
            "    29_HR_1_53,341,638,638_1.jpg\n",
            "    29_HR_1_61,340,637,637_1.jpg\n",
            "    29_HR_1_52,330,638,638_1.jpg\n",
            "    29_HR_1_61,347,632,632_1.jpg\n",
            "    29_HR_1_51,325,636,636_1.jpg\n",
            "    29_HR_1_60,330,635,635_1.jpg\n",
            "    29_HR_1_57,331,644,644_1.jpg\n",
            "    29_HR_1_52,335,637,637_1.jpg\n",
            "    29_HR_1_59,337,639,639_1.jpg\n",
            "    29_HR_1_56,324,640,640_1.jpg\n",
            "    29_HR_1_66,328,636,636_1.jpg\n",
            "    29_HR_1_87,340,622,622_1.jpg\n",
            "    29_HR_1_75,325,644,644_1.jpg\n",
            "9\n",
            "    9_4_161,230,174,174_0.jpg\n"
          ]
        }
      ]
    },
    {
      "cell_type": "code",
      "metadata": {
        "colab": {
          "base_uri": "https://localhost:8080/"
        },
        "id": "PJ_jSyhRc6bV",
        "outputId": "0bfdc46e-6208-4008-916d-fc532ed5863f"
      },
      "source": [
        "len(os.listdir('frame_balenced'))"
      ],
      "execution_count": null,
      "outputs": [
        {
          "output_type": "execute_result",
          "data": {
            "text/plain": [
              "2392"
            ]
          },
          "metadata": {},
          "execution_count": 3
        }
      ]
    },
    {
      "cell_type": "code",
      "metadata": {
        "id": "OSy2_65B4FUD",
        "colab": {
          "base_uri": "https://localhost:8080/"
        },
        "outputId": "62fae05a-3617-471a-9fc2-909b90e06e90"
      },
      "source": [
        "!ls without_eye_print"
      ],
      "execution_count": null,
      "outputs": [
        {
          "output_type": "stream",
          "name": "stdout",
          "text": [
            "HR  NOHR\n"
          ]
        }
      ]
    },
    {
      "cell_type": "code",
      "metadata": {
        "id": "lAstdAWGYvD7"
      },
      "source": [
        "!rm HR_NOHR/NOHR/*"
      ],
      "execution_count": null,
      "outputs": []
    },
    {
      "cell_type": "code",
      "metadata": {
        "id": "QS-DrNZYYvBv"
      },
      "source": [
        "# Separation of high rezolution from low rezolution\n",
        "# adding more frame for real film\n",
        "\n",
        "def seprate_HR():\n",
        "  folders = os.listdir('test_release')\n",
        "  for folder in ['23']:# for folder in folders:\n",
        "    files = os.listdir(f'test_release/{folder}')\n",
        "    for file_name in ['8.avi']:# for file_name in files:\n",
        "      # if file_name in ['6.avi', '5.avi', 'HR_3.avi']: continue\n",
        "      # print(f)\n",
        "\n",
        "      sub_folder = 'NOHR'\n",
        "      if file_name in ['HR_1.avi', 'HR_2.avi', 'HR_4.avi', 'HR_3.avi']:\n",
        "        sub_folder = 'HR'\n",
        "\n",
        "      label = '0'\n",
        "      number_frame = 15\n",
        "      if file_name in ['1.avi', '2.avi', 'HR_1.avi']:\n",
        "        label = '1'\n",
        "        number_frame = 30\n",
        "\n",
        "      cap = cv2.VideoCapture(f'test_release/{folder}/{file_name}')\n",
        "      \n",
        "      frames = []\n",
        "      faces = []\n",
        "\n",
        "      i = 1 \n",
        "\n",
        "      while True:\n",
        "        ret, frame = cap.read()\n",
        "        if not ret: break\n",
        "\n",
        "        i+=1\n",
        "        try:\n",
        "          gray = cv2.cvtColor(frame, cv2.COLOR_BGR2GRAY)\n",
        "          face = faceCascade.detectMultiScale(gray, scaleFactor=1.1, minNeighbors=5)\n",
        "          if len(face) != 0:\n",
        "            faces.append(face[0])\n",
        "            frames.append(frame)\n",
        "        except Exception as e:\n",
        "          print(f'can not write frame {i}')\n",
        "          print(e)\n",
        "      \n",
        "      faces = np.array(faces)\n",
        "      frames = np.array(frames)\n",
        "\n",
        "      length = faces.shape[0]\n",
        "      print(frames.shape, faces.shape, length)\n",
        "      # selected_frame = np.sort(sample(range(1, length), number_frame))\n",
        "\n",
        "      # selected_faces = faces[selected_frame]\n",
        "      # selected_frames = frames[selected_frame]\n",
        "\n",
        "      # for i, f in enumerate(selected_frames):\n",
        "      #   x, y, w, h = faces[i]\n",
        "      #   cv2.imwrite(f'HR_NOHR/{sub_folder}/{folder}_{file_name.split(\".\")[0]}_{x},{y},{w},{h}_n{i}_{label}.jpg', f)    # add countre \n",
        "      #   print(f'  {folder}_{file_name.split(\".\")[0]}_{x},{y},{w},{h}_n{i}_{label}.jpg')\n",
        "      \n",
        "      "
      ],
      "execution_count": null,
      "outputs": []
    },
    {
      "cell_type": "code",
      "metadata": {
        "colab": {
          "base_uri": "https://localhost:8080/"
        },
        "id": "ghJtLWafjclJ",
        "outputId": "2af1d68d-9492-4405-8a53-074f5020b97b"
      },
      "source": [
        "seprate_HR()"
      ],
      "execution_count": null,
      "outputs": [
        {
          "output_type": "stream",
          "name": "stdout",
          "text": [
            "(186, 640, 480, 3) (186, 4) 186\n"
          ]
        }
      ]
    },
    {
      "cell_type": "code",
      "metadata": {
        "colab": {
          "base_uri": "https://localhost:8080/"
        },
        "id": "9ydt-MGQmvwW",
        "outputId": "58dd51c7-af69-457f-870c-f09a55c8b3f6"
      },
      "source": [
        "os.listdir('test_release')"
      ],
      "execution_count": null,
      "outputs": [
        {
          "output_type": "execute_result",
          "data": {
            "text/plain": [
              "['18',\n",
              " '11',\n",
              " '27',\n",
              " '25',\n",
              " '21',\n",
              " '23',\n",
              " '6',\n",
              " '5',\n",
              " '19',\n",
              " '7',\n",
              " '10',\n",
              " '22',\n",
              " '4',\n",
              " '29',\n",
              " '9',\n",
              " '17',\n",
              " '2',\n",
              " '1',\n",
              " '26',\n",
              " '16',\n",
              " '30',\n",
              " '12',\n",
              " '8',\n",
              " '3',\n",
              " '20',\n",
              " '24',\n",
              " '28',\n",
              " '15',\n",
              " '13',\n",
              " '14']"
            ]
          },
          "metadata": {},
          "execution_count": 65
        }
      ]
    },
    {
      "cell_type": "code",
      "metadata": {
        "colab": {
          "base_uri": "https://localhost:8080/"
        },
        "id": "CosY_KrFnGwV",
        "outputId": "777eb233-50de-4ad2-8411-e94f4253ac89"
      },
      "source": [
        "len(os.listdir('without_eye_print/HR'))"
      ],
      "execution_count": null,
      "outputs": [
        {
          "output_type": "execute_result",
          "data": {
            "text/plain": [
              "90"
            ]
          },
          "metadata": {},
          "execution_count": 12
        }
      ]
    },
    {
      "cell_type": "code",
      "metadata": {
        "id": "9lwCcdU35mBq"
      },
      "source": [
        ""
      ],
      "execution_count": null,
      "outputs": []
    }
  ]
}