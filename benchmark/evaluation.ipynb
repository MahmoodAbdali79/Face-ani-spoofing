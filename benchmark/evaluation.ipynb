{
  "nbformat": 4,
  "nbformat_minor": 0,
  "metadata": {
    "colab": {
      "name": "evaluation.ipynb",
      "provenance": [],
      "collapsed_sections": [],
      "authorship_tag": "ABX9TyOxJ9lmp6f3TPHzTuOalAL5",
      "include_colab_link": true
    },
    "kernelspec": {
      "display_name": "Python 3",
      "name": "python3"
    },
    "language_info": {
      "name": "python"
    }
  },
  "cells": [
    {
      "cell_type": "markdown",
      "metadata": {
        "id": "view-in-github",
        "colab_type": "text"
      },
      "source": [
        "<a href=\"https://colab.research.google.com/github/MahmoodAbdali79/Face-ani-spoofing/blob/main/benchmark/evaluation.ipynb\" target=\"_parent\"><img src=\"https://colab.research.google.com/assets/colab-badge.svg\" alt=\"Open In Colab\"/></a>"
      ]
    },
    {
      "cell_type": "code",
      "metadata": {
        "id": "Bu6g-jo0G4Xk"
      },
      "source": [
        "# https://keras.io/examples/vision/video_classification/\n",
        "# https://keras.io/api/preprocessing/image/\n",
        "# https://discuss.pytorch.org/t/how-to-go-about-unbalanced-data-in-a-binary-classification-in-pytorch/90655"
      ],
      "execution_count": null,
      "outputs": []
    },
    {
      "cell_type": "code",
      "metadata": {
        "colab": {
          "base_uri": "https://localhost:8080/"
        },
        "id": "-b6kvY9w-M4r",
        "outputId": "4ac3286d-d36f-42d0-ba4a-95155c592dd4"
      },
      "source": [
        "from google.colab import drive\n",
        "drive.mount('/content/drive')"
      ],
      "execution_count": 1,
      "outputs": [
        {
          "output_type": "stream",
          "name": "stdout",
          "text": [
            "Drive already mounted at /content/drive; to attempt to forcibly remount, call drive.mount(\"/content/drive\", force_remount=True).\n"
          ]
        }
      ]
    },
    {
      "cell_type": "code",
      "metadata": {
        "colab": {
          "base_uri": "https://localhost:8080/"
        },
        "id": "Br8q0tXKGR0S",
        "outputId": "ca670bbc-4b18-442f-88fc-82d5bc4edd32"
      },
      "source": [
        "%cd drive/MyDrive/shenasa/benchmark"
      ],
      "execution_count": 2,
      "outputs": [
        {
          "output_type": "stream",
          "name": "stdout",
          "text": [
            "/content/drive/MyDrive/shenasa/benchmark\n"
          ]
        }
      ]
    },
    {
      "cell_type": "code",
      "metadata": {
        "id": "6Aeyi_qDF-H9"
      },
      "source": [
        "import os\n",
        "import cv2\n",
        "import numpy as np\n",
        "import pandas as pd\n",
        "from keras.preprocessing.image import img_to_array\n",
        "from rPPG.rPPG_Extracter import *\n",
        "from rPPG.rPPG_lukas_Extracter import *\n",
        "from keras.models import model_from_json\n",
        "import tensorflow as tf\n",
        "from random import seed\n",
        "# from random import randint\n",
        "from random import sample\n",
        "\n",
        "seed(1)"
      ],
      "execution_count": 3,
      "outputs": []
    },
    {
      "cell_type": "code",
      "metadata": {
        "id": "qLH6MhwxX4pt"
      },
      "source": [
        "dim = (128,128)"
      ],
      "execution_count": 4,
      "outputs": []
    },
    {
      "cell_type": "code",
      "metadata": {
        "id": "QcsNnxhQiSeD"
      },
      "source": [
        "cascPath = './cv2_model/haarcascade_frontalface_default.xml'\n",
        "faceCascade = cv2.CascadeClassifier(cascPath)"
      ],
      "execution_count": 5,
      "outputs": []
    },
    {
      "cell_type": "code",
      "metadata": {
        "id": "rX13dfECE8gl"
      },
      "source": [
        "# extract frames from videos (each 5 frames)\n",
        "# numberfolder_filemname_x,y,w,h_label.jpg\n",
        "\n",
        "def extract_frames(path, max_frames=6):\n",
        "  folders = os.listdir(path)\n",
        "  os.mkdir(f\"{path}/frames\")\n",
        "  \n",
        "  for folder in folders:\n",
        "    print(f'exracting foder {folder} ...')\n",
        "    videos = os.listdir(f'{path}/{folder}')\n",
        "    for video in videos:\n",
        "      print(video.split('.')[0], ' ...')\n",
        "      name = video.split('.')[0]\n",
        "      if name in ['1','2','HR_1'] : label = '1'\n",
        "      else : label = '0'\n",
        "      cap = cv2.VideoCapture(f'{path}/{folder}/{video}')\n",
        "      \n",
        "      try:\n",
        "        i = 0 \n",
        "        counter = 0\n",
        "        while True:\n",
        "          ret, frame = cap.read()\n",
        "          if not ret: break\n",
        "\n",
        "          i += 1\n",
        "          # detect face \n",
        "          gray = cv2.cvtColor(frame, cv2.COLOR_BGR2GRAY)\n",
        "          faces = faceCascade.detectMultiScale(gray, scaleFactor=1.1, minNeighbors=5)\n",
        "\n",
        "\n",
        "          if i%5 == 0 and len(faces) != 0:\n",
        "            x, y, w, h = faces[0]\n",
        "            print( faces[0],len(faces[0]) , f'counter: {counter+1}')\n",
        "            cv2.imwrite(f'{path}/frames/{folder}_{name}_{x},{y},{w},{h}_{label}.jpg', frame)\n",
        "            counter += 1\n",
        "          # if counter == max_frames: break\n",
        "      finally:\n",
        "        cap.release()"
      ],
      "execution_count": null,
      "outputs": []
    },
    {
      "cell_type": "code",
      "metadata": {
        "id": "dDoK5AGrGKyq"
      },
      "source": [
        "extract_frames('test_release')"
      ],
      "execution_count": null,
      "outputs": []
    },
    {
      "cell_type": "code",
      "metadata": {
        "id": "fUdPcvUxWPaP"
      },
      "source": [
        "def get_rppg_pred(frame):\n",
        "    use_classifier = True  \n",
        "                                 \n",
        "    sub_roi = []           \n",
        "    use_resampling = False  \n",
        "    \n",
        "    fs = 20\n",
        "\n",
        "    timestamps = []\n",
        "    time_start = [0]\n",
        "\n",
        "    break_ = False\n",
        "\n",
        "    rPPG_extracter = rPPG_Extracter()\n",
        "    rPPG_Lukas_Extracter()\n",
        "    bpm = 0\n",
        "    \n",
        "    dt = time.time()-time_start[0]\n",
        "    time_start[0] = time.time()\n",
        "    if len(timestamps) == 0:\n",
        "        timestamps.append(0)\n",
        "    else:\n",
        "        timestamps.append(timestamps[-1] + dt)\n",
        "        \n",
        "\n",
        "    rPPG_extracter.measure_rPPG(frame,use_classifier,sub_roi) \n",
        "    rPPG = np.transpose(rPPG_extracter.rPPG)\n",
        "    \n",
        "        # Extract Pulse\n",
        "    if rPPG.shape[1] > 10:\n",
        "        if use_resampling :\n",
        "            t = np.arange(0,timestamps[-1],1/fs)\n",
        "            \n",
        "            rPPG_resampled= np.zeros((3,t.shape[0]))\n",
        "            for col in [0,1,2]:\n",
        "                rPPG_resampled[col] = np.interp(t,timestamps,rPPG[col])\n",
        "            rPPG = rPPG_resampled\n",
        "        num_frames = rPPG.shape[1]\n",
        "\n",
        "        \n",
        "    return rPPG"
      ],
      "execution_count": null,
      "outputs": []
    },
    {
      "cell_type": "code",
      "metadata": {
        "id": "P_TOj559WPX4"
      },
      "source": [
        "def make_pred(li):\n",
        "    [single_img,rppg] = li\n",
        "    # print(single_img.shape)\n",
        "    single_img = cv2.resize(single_img, dim)\n",
        "    single_x = img_to_array(single_img)\n",
        "    single_x = np.expand_dims(single_x, axis=0)\n",
        "\n",
        "    # print(single_img.shape)\n",
        "    # print('============')\n",
        "    # print(single_x.shape)\n",
        "    # print('============')\n",
        "    # print(rppg.shape)\n",
        "\n",
        "    single_pred = model.predict([single_x,rppg])\n",
        "    return single_pred"
      ],
      "execution_count": null,
      "outputs": []
    },
    {
      "cell_type": "code",
      "metadata": {
        "id": "09QH776_WPEf"
      },
      "source": [
        "def prediction_test(path):\n",
        "  result = []\n",
        "  label = []\n",
        "  ma_frames = os.listdir(f'{path}/frames')\n",
        "  counter = 0\n",
        "  for i in ma_frames:\n",
        "    print(f'{counter}:', i)\n",
        "    im = cv2.imread(f'{path}/frames/{i}')\n",
        "    if 'HR' in i:\n",
        "      face = list(map(int, i.split('_')[3].split(',')))\n",
        "    else:\n",
        "      face = list(map(int, i.split('_')[2].split(',')))\n",
        "\n",
        "    x, y, w, h = face\n",
        "    sub_img=im[y:y+h,x:x+w]\n",
        "    \n",
        "    rppg_s = get_rppg_pred(sub_img)\n",
        "    rppg_s = rppg_s.T\n",
        "    # print(sub_img.shape)\n",
        "    # print(rppg_s)\n",
        "    pred = make_pred([sub_img,rppg_s])\n",
        "    result.append(pred)\n",
        "    label.append(int(i.split('_')[-1].split('.')[0]))\n",
        "    counter += 1\n",
        "\n",
        "  result = np.array(result).reshape(len(result), -1) \n",
        "  result = tf.math.argmin(result, axis=1)\n",
        "  label = tf.convert_to_tensor(label)\n",
        "\n",
        "  return result, label\n",
        "  "
      ],
      "execution_count": null,
      "outputs": []
    },
    {
      "cell_type": "code",
      "metadata": {
        "id": "2MCm5phKf452"
      },
      "source": [
        "json_file = open('../RGB_rPPG_merge_softmax_.json', 'r')\n",
        "loaded_model_json = json_file.read()\n",
        "json_file.close()\n",
        "model = model_from_json(loaded_model_json)\n",
        "model.load_weights(\"../RGB_rPPG_merge_softmax_.h5\")\n",
        "\n",
        "model.compile(optimizer='adam', loss='categorical_crossentropy', metrics=['accuracy'])"
      ],
      "execution_count": null,
      "outputs": []
    },
    {
      "cell_type": "code",
      "metadata": {
        "id": "qjjRXKvHXylb"
      },
      "source": [
        "result, label = prediction_test('test_release')"
      ],
      "execution_count": null,
      "outputs": []
    },
    {
      "cell_type": "code",
      "metadata": {
        "colab": {
          "base_uri": "https://localhost:8080/"
        },
        "id": "KJ289aL94QBf",
        "outputId": "2233c39a-4889-4b0f-caca-1229c1f6016f"
      },
      "source": [
        "len(os.listdir('test_release/frames'))"
      ],
      "execution_count": null,
      "outputs": [
        {
          "output_type": "execute_result",
          "data": {
            "text/plain": [
              "8950"
            ]
          },
          "metadata": {},
          "execution_count": 62
        }
      ]
    },
    {
      "cell_type": "code",
      "metadata": {
        "colab": {
          "base_uri": "https://localhost:8080/"
        },
        "id": "BfcGYG3JB8o5",
        "outputId": "2439ddf4-9feb-43bf-a1b9-c91f7bf6b7d4"
      },
      "source": [
        "label.shape"
      ],
      "execution_count": null,
      "outputs": [
        {
          "output_type": "execute_result",
          "data": {
            "text/plain": [
              "TensorShape([8950])"
            ]
          },
          "metadata": {},
          "execution_count": 68
        }
      ]
    },
    {
      "cell_type": "code",
      "metadata": {
        "colab": {
          "base_uri": "https://localhost:8080/"
        },
        "id": "eGKOK1k-fXDK",
        "outputId": "91b974b2-6e8b-47ef-fe3e-39cc2378a84a"
      },
      "source": [
        "res = tf.math.confusion_matrix(label,result)\n",
        "print(res)"
      ],
      "execution_count": null,
      "outputs": [
        {
          "output_type": "stream",
          "name": "stdout",
          "text": [
            "tf.Tensor(\n",
            "[[4829 1364]\n",
            " [1180 1577]], shape=(2, 2), dtype=int32)\n"
          ]
        }
      ]
    },
    {
      "cell_type": "code",
      "metadata": {
        "colab": {
          "base_uri": "https://localhost:8080/"
        },
        "id": "9TNr0uwzlGlJ",
        "outputId": "62da30df-5ad6-486e-86fe-c21cc903af70"
      },
      "source": [
        "# test_30_180_1  first method : 0.29465575349061146\n",
        "# (1083+141)/(2*2077)\n",
        "\n",
        "# test_30_180_1 second method : 0.29809955540057537\n",
        "# (6087+752)/(2*11471)\n",
        "\n",
        "# test_30_180_1 third method : 0.29\n",
        "# (4439+752)/(2*8950)"
      ],
      "execution_count": null,
      "outputs": [
        {
          "output_type": "execute_result",
          "data": {
            "text/plain": [
              "0.29"
            ]
          },
          "metadata": {},
          "execution_count": 65
        }
      ]
    },
    {
      "cell_type": "code",
      "metadata": {
        "colab": {
          "base_uri": "https://localhost:8080/"
        },
        "id": "mMNMjr9PnOMo",
        "outputId": "7846ed13-6138-4a31-b176-afaca6a4865e"
      },
      "source": [
        "# balance_30_300_7 first method : 0.36398651901781415\n",
        "# (1504+8)/(2*2077)\n",
        "\n",
        "# balance_30_300_7 second method : 0.3687124051957109\n",
        "# (8346+113)/(2*11471)\n",
        "\n",
        "# balance_30_300_7 third method : 0.26261877778746406\n",
        "# (5912+113)/(2*11471)"
      ],
      "execution_count": null,
      "outputs": [
        {
          "output_type": "execute_result",
          "data": {
            "text/plain": [
              "0.26261877778746406"
            ]
          },
          "metadata": {},
          "execution_count": 70
        }
      ]
    },
    {
      "cell_type": "code",
      "metadata": {
        "id": "2r17o_Oh2U3I"
      },
      "source": [
        "# RGB_rPPG_merge_softmax_   first method : 0.343042850264805\n",
        "# (1129+296)/(2*2077) \n",
        "\n",
        "# RGB_rPPG_merge_softmax_   second method : 0.3496643710225787\n",
        "# (6445+1577)/(2*11471)\n",
        "\n",
        "# RGB_rPPG_merge_softmax_   third method : 0.27922587394298665\n",
        "# (4829+1577)/(2*11471)"
      ],
      "execution_count": null,
      "outputs": []
    },
    {
      "cell_type": "code",
      "metadata": {
        "colab": {
          "base_uri": "https://localhost:8080/"
        },
        "id": "JGgTsYYt3FZr",
        "outputId": "07cdc4f0-fb51-4506-f3e2-021536b78936"
      },
      "source": [
        "(2077)/(2*2077)"
      ],
      "execution_count": null,
      "outputs": [
        {
          "data": {
            "text/plain": [
              "0.5"
            ]
          },
          "execution_count": 15,
          "metadata": {},
          "output_type": "execute_result"
        }
      ]
    },
    {
      "cell_type": "code",
      "metadata": {
        "colab": {
          "base_uri": "https://localhost:8080/"
        },
        "id": "qDloOFVe3c8l",
        "outputId": "e13247a5-1607-4f12-b709-7863ed5d80fc"
      },
      "source": [
        "(0)/(2*2077)"
      ],
      "execution_count": null,
      "outputs": [
        {
          "data": {
            "text/plain": [
              "0.0"
            ]
          },
          "execution_count": 16,
          "metadata": {},
          "output_type": "execute_result"
        }
      ]
    },
    {
      "cell_type": "code",
      "metadata": {
        "id": "9NoGh61AELie"
      },
      "source": [
        "files = os.listdir('test_release/frames')"
      ],
      "execution_count": null,
      "outputs": []
    },
    {
      "cell_type": "code",
      "metadata": {
        "colab": {
          "base_uri": "https://localhost:8080/"
        },
        "id": "Ucv_3ejHELgM",
        "outputId": "c1f46f0d-b89d-49f7-9b45-f85cb3ff8dce"
      },
      "source": [
        "a = files[100]\n",
        "print(a)\n",
        "\n",
        "if 'HR' in a: print('_'.join(a.split('_')[1:3]))\n",
        "else: print('_'.join(a.split('_')[1]))"
      ],
      "execution_count": null,
      "outputs": [
        {
          "output_type": "stream",
          "name": "stdout",
          "text": [
            "15_HR_2_37,292,635,635_0.jpg\n",
            "HR_2\n"
          ]
        }
      ]
    },
    {
      "cell_type": "code",
      "metadata": {
        "id": "NVV72g5zELZH"
      },
      "source": [
        "for f in files:\n",
        "  if 'HR' in f: name = '_'.join(f.split('_')[1:3])\n",
        "  else: name = '_'.join(f.split('_')[1])\n",
        "\n",
        "  if name in ['5', '6', 'HR_3']:\n",
        "    try:\n",
        "      # print(f)\n",
        "      os.remove('test_release/frames/'+f)\n",
        "    except:pass"
      ],
      "execution_count": null,
      "outputs": []
    },
    {
      "cell_type": "code",
      "metadata": {
        "colab": {
          "base_uri": "https://localhost:8080/"
        },
        "id": "hiJuUj2sG34l",
        "outputId": "12beceb5-c526-4807-d775-7014c89ca8c5"
      },
      "source": [
        "len( os.listdir('test_release/frames'))"
      ],
      "execution_count": null,
      "outputs": [
        {
          "output_type": "execute_result",
          "data": {
            "text/plain": [
              "8950"
            ]
          },
          "metadata": {},
          "execution_count": 54
        }
      ]
    },
    {
      "cell_type": "code",
      "metadata": {
        "id": "BAJFDcnDG2OE"
      },
      "source": [
        "try:\n",
        "  os.remove('test_release/frames/'+files[10])\n",
        "except:pass"
      ],
      "execution_count": null,
      "outputs": []
    },
    {
      "cell_type": "code",
      "metadata": {
        "id": "Y5ITYwJI9lhe"
      },
      "source": [
        "def extract_frame(in_paht):  #test_release/18/3.avi\n",
        "  #extrame frae from a path and release in a other path\n",
        "  folder = in_paht.split('/')[1] \n",
        "  name = in_paht.split('.')[0].split('/')[-1]\n",
        "  label = '0'\n",
        "  number_frame = 10\n",
        "  out_folder = '' \n",
        "\n",
        "  if name in ['1','2','HR_1'] : \n",
        "    label = '1'\n",
        "    number_frame = 30\n",
        "    out_folder = 'real'\n",
        "  elif name in ['3', '4', 'HR_2']:\n",
        "    out_folder = 'print'\n",
        "  elif name in ['7', '8', 'HR_4']:\n",
        "    out_folder = 'reply'\n",
        "  elif name in ['5', '6', 'HR_3']:\n",
        "    out_folder = 'print_eye'\n",
        "\n",
        "  print(f'    Extracting {name}.avi ...')\n",
        "\n",
        "  cap = cv2.VideoCapture(in_paht)\n",
        "  length = int(cap.get(cv2.CAP_PROP_FRAME_COUNT))\n",
        "  selected_frame = np.sort(sample(range(length), number_frame))\n",
        "  last_frame = selected_frame[-1]\n",
        "\n",
        "  A = []\n",
        "\n",
        "  # print(selected_frame, len(selected_frame))\n",
        "\n",
        "  try:\n",
        "    i = 0 \n",
        "    while True:\n",
        "      ret, frame = cap.read()\n",
        "      if not ret: break\n",
        "\n",
        "      # detect face\n",
        "      try:\n",
        "        gray = cv2.cvtColor(frame, cv2.COLOR_BGR2GRAY)\n",
        "        faces = faceCascade.detectMultiScale(gray, scaleFactor=1.1, minNeighbors=5)\n",
        "\n",
        "        if i in selected_frame and len(faces) != 0:\n",
        "          A.append(i)\n",
        "          # print(f'in frame : {i}')\n",
        "          x, y, w, h = faces[0]\n",
        "          cv2.imwrite(f'benchmark_type/{out_folder}/{folder}_{name}_{x},{y},{w},{h}_{label}_{i}.jpg', frame)\n",
        "      \n",
        "        i += 1\n",
        "      except Exception as e:\n",
        "        print(f'can not write frame {i}')\n",
        "        print(e)\n",
        "      if i == last_frame+1:\n",
        "        break\n",
        "\n",
        "  finally:\n",
        "    cap.release()\n"
      ],
      "execution_count": 6,
      "outputs": []
    },
    {
      "cell_type": "code",
      "metadata": {
        "id": "4X59y-DT9n1-"
      },
      "source": [
        "def ExtractFrameBasedOnClass(path):\n",
        "  folders = os.listdir(path)\n",
        "  \n",
        "  for folder in folders:\n",
        "    print(f'On folder {folder} ...')\n",
        "    videos = os.listdir(f'{path}/{folder}')\n",
        "    for video in videos:\n",
        "      extract_frame(f'{path}/{folder}/{video}')"
      ],
      "execution_count": 25,
      "outputs": []
    },
    {
      "cell_type": "code",
      "metadata": {
        "id": "NaXhkXyPEYDK"
      },
      "source": [
        "# !rm benchmark_type/reply/*\n",
        "# !ls benchmark_type/real"
      ],
      "execution_count": 26,
      "outputs": []
    },
    {
      "cell_type": "code",
      "metadata": {
        "id": "kd3IcvXONTXy"
      },
      "source": [
        "ExtractFrameBasedOnClass('test_release')"
      ],
      "execution_count": null,
      "outputs": []
    },
    {
      "cell_type": "code",
      "metadata": {
        "colab": {
          "base_uri": "https://localhost:8080/"
        },
        "id": "nk63zaVm4ZUY",
        "outputId": "e37130ed-1f9c-417b-cd94-71b47bfb98c4"
      },
      "source": [
        "# real - atack\n",
        "2576-2488"
      ],
      "execution_count": 45,
      "outputs": [
        {
          "output_type": "execute_result",
          "data": {
            "text/plain": [
              "88"
            ]
          },
          "metadata": {},
          "execution_count": 45
        }
      ]
    },
    {
      "cell_type": "code",
      "metadata": {
        "colab": {
          "base_uri": "https://localhost:8080/"
        },
        "id": "-KItrXhL5ZQb",
        "outputId": "b69aada3-4473-4ae7-f76d-1bfef5cff235"
      },
      "source": [
        "print(len(os.listdir('benchmark_type/print')))\n",
        "print(len(os.listdir('benchmark_type/reply')))\n",
        "print(len(os.listdir('benchmark_type/print_eye')))"
      ],
      "execution_count": 66,
      "outputs": [
        {
          "output_type": "stream",
          "name": "stdout",
          "text": [
            "818\n",
            "826\n",
            "844\n"
          ]
        }
      ]
    },
    {
      "cell_type": "code",
      "metadata": {
        "colab": {
          "base_uri": "https://localhost:8080/"
        },
        "id": "jUtt0wxu6iO-",
        "outputId": "35153055-e914-4a81-f537-ea6d27292ada"
      },
      "source": [
        "print(len(os.listdir('benchmark_type/real')))"
      ],
      "execution_count": 67,
      "outputs": [
        {
          "output_type": "stream",
          "name": "stdout",
          "text": [
            "2488\n"
          ]
        }
      ]
    },
    {
      "cell_type": "code",
      "metadata": {
        "id": "X6xBYg5A4o6f"
      },
      "source": [
        "pics = os.listdir('benchmark_type/real')\n",
        "\n",
        "for i in sample(range(2576+1), 88):\n",
        "  os.remove(f'benchmark_type/real/{pics[i]}')"
      ],
      "execution_count": 63,
      "outputs": []
    },
    {
      "cell_type": "code",
      "metadata": {
        "id": "NQZR4gkn9nzf"
      },
      "source": [
        "# extract frames from videos (each 5 frames)\n",
        "# numberfolder_filemname_x,y,w,h_label.jpg\n",
        "\n",
        "def extract_frames(path, max_frames=6):\n",
        "  folders = os.listdir(path)\n",
        "  os.mkdir(f\"{path}/frames\")\n",
        "  \n",
        "  for folder in folders:\n",
        "    print(f'exracting foder {folder} ...')\n",
        "    videos = os.listdir(f'{path}/{folder}')\n",
        "    for video in videos:\n",
        "      print(video.split('.')[0], ' ...')\n",
        "      name = video.split('.')[0]\n",
        "      if name in ['1','2','HR_1'] : label = '1'\n",
        "      else : label = '0'\n",
        "      cap = cv2.VideoCapture(f'{path}/{folder}/{video}')\n",
        "      \n",
        "      try:\n",
        "        i = 0 \n",
        "        counter = 0\n",
        "        while True:\n",
        "          ret, frame = cap.read()\n",
        "          if not ret: break\n",
        "\n",
        "          i += 1\n",
        "          # detect face \n",
        "          gray = cv2.cvtColor(frame, cv2.COLOR_BGR2GRAY)\n",
        "          faces = faceCascade.detectMultiScale(gray, scaleFactor=1.1, minNeighbors=5)\n",
        "\n",
        "\n",
        "          if i%5 == 0 and len(faces) != 0:\n",
        "            x, y, w, h = faces[0]\n",
        "            print( faces[0],len(faces[0]) , f'counter: {counter+1}')\n",
        "            cv2.imwrite(f'{path}/frames/{folder}_{name}_{x},{y},{w},{h}_{label}.jpg', frame)\n",
        "            counter += 1\n",
        "          # if counter == max_frames: break\n",
        "      finally:\n",
        "        cap.release()"
      ],
      "execution_count": null,
      "outputs": []
    },
    {
      "cell_type": "code",
      "metadata": {
        "id": "T17R5TxS9nxP"
      },
      "source": [
        ""
      ],
      "execution_count": null,
      "outputs": []
    }
  ]
}